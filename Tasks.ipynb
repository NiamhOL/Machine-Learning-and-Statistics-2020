{
 "cells": [
  {
   "cell_type": "markdown",
   "metadata": {},
   "source": [
    "# Machine Learning and Statistics - Tasks\n"
   ]
  },
  {
   "cell_type": "markdown",
   "metadata": {},
   "source": [
    "## Task 1 - Square Root"
   ]
  },
  {
   "cell_type": "markdown",
   "metadata": {},
   "source": [
    "## Introduction \n",
    "\n",
    "This assignment demonstrates how to create a Python function called  $sqrt2$  that calculates and prints to the screen the square root of 2 to 100 decimal places. This code cannot depend on any of the modules available in the standard library. \n"
   ]
  },
  {
   "cell_type": "markdown",
   "metadata": {},
   "source": [
    "## Research \n",
    "\n",
    "\"The early Pythagoreans were convinced that every conceivable number could in principle be written in fractional form, as the ratio of two natural numbers. Since there is an infinite supply of natural numbers, they thought, there must be enough to do the job. The discovery that this was an erroneous belief, possibly by the geometer Hippasus in the 5th century BCE, was shocking news. According to legend, Hippasus was hurled off a boat and drowned to prevent the truth becoming widely known, such was its threat to the Pythagorean concept of order in the Universe!.\" [1] \n",
    "\n",
    "Numbers that cannot be expressed as a ratio of natural numbers are called irrational numbers, even though they make perfect sense to modern mathematicians. It is actually easy to see why some numbers are irrational. A famous example is the square root of 2, which is roughly 1.4142, and denoted √2. \n",
    "\n",
    "Before one can attempt to write Python code for ...sqrt2..., it is important to gain a better understanding of an effecient method of calculation. \"Newton’s method also known as Newton-Raphson method is a root-finding algorithm that produces successively better approximations of the roots of a real-valued function.\" [2]\n",
    "\n",
    "                $$ x_{n+1}=\\dfrac{1}{2}\\left( x_{n}+\\dfrac{a}{x_{n}}\\right) $$\n",
    "\n",
    "\n",
    "The approximations of the root go as:\n",
    "\n",
    "$$ x_(n+1) = x_n - f(x_n) / f’(x_n) $$\n",
    "$$ x_0 $$  is the rough approximation of the root done at the first and the successive approximations go as  $$ x_1, x_2,...$$ \n",
    "$$ f(x_n) $$ is the function whose root is to be determined and $$ f’(x_n) $$ is the derivative of the function.\n",
    "\n",
    "\"Newton's Method is used to find successive approximations to the roots of a function. If the function is y = f(x) and x0 is close to a root, then we usually expect the formula below to give x1 as a better approximation. Then you plug the x1 back in as x0 and iterate\" (2)\n",
    "\n",
    "Newton's Method for square root goes as follows;(4) If we have to find the square root of a number n, the function would be $$ f(x) = x² - N $$ and we would have to find the root of the function,  $$ f(x) $$\n",
    "\n",
    "Here, the value $$ f(x_n) at x = x_n $$ is $$ f(x_n) = x_n² - N $$\n",
    "\n",
    "And, the derivative at the point is $$ f’(x_n) = 2 * x_n $$\n",
    "\n",
    "Now, the better approximation can be found using [1]\n",
    "\n",
    "$$ x_(n+1) = x_n - (x_n² - N) / (2 * x_n) $$\n",
    "$$ x_(n+1) = x_n - x_n² / (2 * x_n) + N/ (2 * x_n) $$\n",
    "$$ x_(n+1) = x_n - x_n / 2+ N/ (2 * x_n) $$\n",
    "$$ x_(n+1) = x_n / 2+ N/ (2 * x_n) $$\n",
    "$$ x_(n+1) = (x_n + N/ x_n) / 2 $$\n",
    "\n",
    "\n",
    "Integer square root of a number is the floor of the square root. The algorithm can be modified a little to find integer square root of a number. The while condition here would be approximate * approximate > N. The algorithm terminates when the approximate squared is less than or equal to N.\n",
    "The iteration relation here is:\n",
    "\n",
    "$$ x_(n+1) = (x_n + N // x_n) // 2 $$ where // is integer division [4]\n",
    "\n",
    "A classic analysis text (Rudin, Principles of Mathematical Analysis) approaches the proof of convergence of this algorithm as follows: we prove that the sequence converges monotonically and is bounded, and hence it has a limit; we then easily see that the limit is √ [5]\n",
    "\n",
    "This method can be applied to the calculating the square root of 2. If we start with x_1=1 \n",
    "\n",
    "The number of accurate digits approximately doubles on each iteration. This is a very efficient concergence rate.\n",
    "\n",
    "![image](https://raw.githubusercontent.com/NiamhOL/Machine-Learning-and-Statistics-2020-Assignments/main/images/Newton.PNG) \n",
    "\n",
    "### AdvantagesDisadvantages of Newton's Method\n",
    "\n",
    "When it converges, Newton's method usually converges very quickly and this is its main advantage. However, Newton's method is not guaranteed to converge and this is obviously a big disadvantage especially compared to the bisection and secant methods which are guaranteed to converge to a solution (provided they start with an interval containing a root).\n",
    "\n",
    "Newton's method also requires computing values of the derivative of the function in question. This is potentially a disadvantage if the derivative is difficult to compute. \n",
    "\n",
    "The stopping criteria for Newton's method differs from the bisection and secant methods. In those methods, we know how close we are to a solution because we are computing intervals which contain a solution. In Newton's method, we don't know how close we are to a solution. All we can compute is the value  and so we implement a stopping criteria based on.\"[3]\n"
   ]
  },
  {
   "cell_type": "markdown",
   "metadata": {},
   "source": [
    "\n",
    "## Square Root 2 in Python \n",
    "\n",
    "Loops are often used in programs that compute numerical results by starting with an approximate answer and iteratively improving it. Suppose that you want to know the square root of n. If you start with almost any approximation, you can compute a better approximation with the following formula:\n",
    "\n",
    "\n",
    "The following implementation of Newton’s method requires two parameters. The first is the value whose square root will be approximated. The second is the number of times to iterate the calculation yielding a better result [7]"
   ]
  },
  {
   "cell_type": "code",
   "execution_count": 8,
   "metadata": {},
   "outputs": [
    {
     "name": "stdout",
     "output_type": "stream",
     "text": [
      "1.414213562373095\n"
     ]
    }
   ],
   "source": [
    "def newton_method(number, number_iters = 500):    # https://medium.com/@sddkal/newton-square-root-method-in-python-270853e9185d\n",
    "    a = float(number) # number to get square root of\n",
    "    for i in range(number_iters): # iteration number\n",
    "        number = 0.5 * (number + a / number) # update\n",
    " # x_(n+1) = 0.5 * (x_n +a / x_n)\n",
    "    return number\n",
    "\n",
    "print (newton_method(2))"
   ]
  },
  {
   "cell_type": "code",
   "execution_count": 3,
   "metadata": {},
   "outputs": [
    {
     "name": "stdout",
     "output_type": "stream",
     "text": [
      "1.4142135623730950488016887242096980785696718753769480731766797379907324784621070388503875343276415727\n"
     ]
    }
   ],
   "source": [
    "x = 2 * 10 ** 200  \n",
    "r = x\n",
    "\n",
    "def sqrt2(x, r):\n",
    "    d0 = abs(x - r**2)\n",
    "    dm = abs(x - (r-1)**2)\n",
    "    dp = abs(x - (r+1)**2)\n",
    "    minimised = d0 <= dm and d0 <= dp\n",
    "    below_min = dp < dm\n",
    "    return minimised, below_min\n",
    "\n",
    "while True:\n",
    "    oldr = r\n",
    "    r = (r + x // r) // 2\n",
    "\n",
    "    minimised, below_min = sqrt2(x, r)\n",
    "    if minimised:\n",
    "        break\n",
    "\n",
    "    if r == oldr:\n",
    "        if below_min:\n",
    "            r += 1\n",
    "        else:\n",
    "            r -= 1\n",
    "        minimised, _ = sqrt2(x, r)\n",
    "        if minimised:\n",
    "            break\n",
    "\n",
    "print(f'{r // 10**100}.{r % 10**100:0100d}') # [8]"
   ]
  },
  {
   "cell_type": "markdown",
   "metadata": {},
   "source": [
    "\"Newton’s algorithm will eventually reach a point where the new approximation is no better than the previous. At that point, we could simply stop. In other words, by repeatedly applying this formula until the better approximation gets close enough to the previous one, we can write a function for computing the square root that uses the number of iterations necessary and no more.\n",
    "\n",
    "This implementation, shown in codelens, uses a while condition to execute until the approximation is no longer changing. Each time through the loop we compute a “better” approximation using the formula described earlier. As long as the “better” is different, we try again. Step through the program and watch the approximations get closer and closer.\" [7]"
   ]
  },
  {
   "cell_type": "markdown",
   "metadata": {},
   "source": [
    "## Validating the above method"
   ]
  },
  {
   "cell_type": "code",
   "execution_count": 7,
   "metadata": {},
   "outputs": [
    {
     "data": {
      "text/plain": [
       "Decimal('1.4142135623730950488016887242096980785696718753769480731766797379907324784621070388503875343276415727')"
      ]
     },
     "execution_count": 7,
     "metadata": {},
     "output_type": "execute_result"
    }
   ],
   "source": [
    "from decimal import *\n",
    "getcontext().prec = 101 # Can try other numbers here\n",
    "Decimal(2).sqrt()"
   ]
  },
  {
   "cell_type": "code",
   "execution_count": null,
   "metadata": {},
   "outputs": [],
   "source": [
    "# https://apod.nasa.gov/htmltest/gifcity/sqrt2.1mil [10]\n",
    "sqrt2byNasa = \"1.4142135623730950488016887242096980785696718753769480731766797379907324784621070388503875343276415727\"\n",
    "# check I have 100 decimal places places/ 101 significant places.\n",
    "import re\n",
    "# verify 100 decimal places\n",
    "print(\"number of significant digits\",len(str(sqrt2byNasa)[1:]))\n"
   ]
  },
  {
   "cell_type": "markdown",
   "metadata": {},
   "source": [
    "## Conclusions \n",
    "\n",
    "The algorithm for Newton’s method for numerically approximating a root of a function can be summarised as follows:\n",
    "\n",
    "* Given a function $$ f(x) $$ of a variable x and a way to compute both $$ f(xi) $$ and its derivative $$ f′(xi)$$ at a given point $$ xi.$$\n",
    "* Set values for the desired numerical relative precision Δd of the result as well as for the maximum number of iterations N the algorithm is allowed to take.\n",
    "* Choose an initial guess $$ x0 $$, ideally close to the location of the root to be approximated.\n",
    "* Compute the next approximation x1 for the root as\n",
    "$$ x1=x0–f(x0)f′(x0) $$\n",
    "* Repeat as $$ xi+1=xi–f(xi)f′(xi)$$ and compute the relative difference between the approximations as\n",
    "$$ Δ=|xi+1−xi||xi|=|f(xi)||f′(xi)xi| $$ until one of two things happens:\n",
    "1. the maximum number of allowed iterations is reached, i.e., $$ i>N $$\n",
    "2. the desired numerical relative precision is reached, i.e., $$ Δ<Δd $$\n",
    "\n",
    "If the algorithm reaches the maximum number of iterations that you set, this can but does not have to indicate that convergence is not possible. Experimentation with suitable values for both Δd and N may be needed to arrive at a satisfactory result. [9] "
   ]
  },
  {
   "cell_type": "markdown",
   "metadata": {},
   "source": [
    "### References and Biblography for Task 1\n",
    "\n",
    "1. https://cosmosmagazine.com/mathematics/the-square-root-of-2/\n",
    "\n",
    "2. https://hackernoon.com/calculating-the-square-root-of-a-number-using-the-newton-raphson-method-a-how-to-guide-yr4e32zo\n",
    "\n",
    "3. http://www.cs.utsa.edu/~wagner/CS3343/newton/sqrt.html\n",
    "\n",
    "4. https://www.math.ubc.ca/~pwalls/math-python/roots-optimization/newton/\n",
    "\n",
    "5. https://medium.com/@surajregmi/how-to-calculate-the-square-root-of-a-number-newton-raphson-method-f8007714f64\n",
    "\n",
    "6. https://math.mit.edu/~stevenj/18.335/newton-sqrt.pdf\n",
    "\n",
    "7. https://runestone.academy/runestone/books/published/thinkcspy/MoreAboutIteration/NewtonsMethod.html\n",
    "\n",
    "8. https://stackoverflow.com/questions/64278117/is-there-a-way-to-create-more-decimal-points-on-python-without-importing-a-libra\n",
    " \n",
    "9. https://computingskillset.com/solving-equations/the-newton-raphson-method-explained-details-pictures-python-code/\n",
    "\n",
    " \n",
    " \n"
   ]
  },
  {
   "cell_type": "markdown",
   "metadata": {},
   "source": [
    "## Task 2 - Chi Squared\n",
    "\n",
    "The Task\n",
    "The Chi-squared test for independence is a statistical hypothesis test like a t-test. It is used to analyse whether two categorical variables are independent. The Wikipedia article gives the table below as an example,stating the Chi-squared value based on it is approximately 24.6. Use scipy.stats to verify this value and calculate the associated p value. You should include a short note with references justifying your analysis in a markdown cell."
   ]
  },
  {
   "cell_type": "markdown",
   "metadata": {},
   "source": [
    "### Introduction\n",
    "\n",
    "\"The Chi-Squared test is a statistical hypothesis test that assumes (the null hypothesis) that the observed frequencies for a categorical variable match the expected frequencies for the categorical variable. The test calculates a statistic that has a chi-squared distribution, named for the Greek capital letter Chi (X) pronounced “ki” as in kite.\" [1] In the exampl used from Wikipedia, a random sample of 650 residents of a city was taken and their occupation was recorded as \"white collar\" \"blue collar\" or \"no collar\". The null hypothesis is that each person's neighbourhood of residence is independent of the person's occupation classification.\n",
    "\n",
    "![Image](https://raw.githubusercontent.com/NiamhOL/Machine-Learning-and-Statistics-2020-Assignments/main/images/ChiSq.PNG)\n",
    "\n",
    "$$ \\dfrac{\\left( observed-\\exp ected\\right) ^{2}}{\\exp ected}= \\dfrac{\\left( 90-80.54\\right) ^{2}}{80.54}\\simeq 1.11 $$\n",
    "\n",
    "In that \"cell\" of the table we have\n",
    "\n",
    "$$ 150\\times \\dfrac{349}{650}\\simeq 80.54 $$\n",
    "\n",
    "The sum of these quantities over all of the cells is the test statistic; in this case, {\\displaystyle \\approx 24.6}{\\displaystyle \\approx 24.6}. Under the null hypothesis, this sum has approximately a chi-squared distribution whose number of degrees of freedom are\n",
    "\n",
    "If the test statistic is improbably large according to that chi-squared distribution, then one rejects the null hypothesis of independence.[2]\n",
    "\n",
    "The Chi-Squared test does this for a contingency table, first calculating the expected frequencies for the groups, then determining whether the division of the groups, called the observed frequencies, matches the expected frequencies.\n",
    "\n",
    "The result of the test is a test statistic that has a chi-squared distribution and can be interpreted to reject or fail to reject the assumption or null hypothesis that the observed and expected frequencies are the same. Variables are considered independent if the observed and expected frequencies are similar, that the levels of the variables do not interact, are not dependent. \"The chi-square test of independence works by comparing the categorically coded data that you have collected (known as the observed frequencies) with the frequencies that you would expect to get in each cell of a table by chance alone (known as the expected frequencies.\" [3] \n",
    "\n",
    "We can interpret the test statistic in the context of the chi-squared distribution with the requisite number of degress of freedom as follows:\n",
    "\n",
    "If Statistic >= Critical Value: significant result, reject null hypothesis (H0), dependent.\n",
    "If Statistic < Critical Value: not significant result, fail to reject null hypothesis (H0), independent.\n",
    "The degrees of freedom for the chi-squared distribution is calculated based on the size of the contingency table as:\n",
    "\n",
    "In terms of a p-value and a chosen significance level (alpha), the test can be interpreted as follows:\n",
    "\n",
    "If p-value <= alpha: significant result, reject null hypothesis (H0), dependent.\n",
    "If p-value > alpha: not significant result, fail to reject null hypothesis (H0), independent.\n",
    "For the test to be effective, at least five observations are required in each cell of the contingency table. [1]\n"
   ]
  },
  {
   "cell_type": "markdown",
   "metadata": {},
   "source": [
    "### Chi-Squared and Python"
   ]
  },
  {
   "cell_type": "code",
   "execution_count": 1,
   "metadata": {},
   "outputs": [
    {
     "name": "stdout",
     "output_type": "stream",
     "text": [
      "Data Table\n"
     ]
    },
    {
     "data": {
      "text/html": [
       "<div>\n",
       "<style scoped>\n",
       "    .dataframe tbody tr th:only-of-type {\n",
       "        vertical-align: middle;\n",
       "    }\n",
       "\n",
       "    .dataframe tbody tr th {\n",
       "        vertical-align: top;\n",
       "    }\n",
       "\n",
       "    .dataframe thead th {\n",
       "        text-align: right;\n",
       "    }\n",
       "</style>\n",
       "<table border=\"1\" class=\"dataframe\">\n",
       "  <thead>\n",
       "    <tr style=\"text-align: right;\">\n",
       "      <th></th>\n",
       "      <th>A</th>\n",
       "      <th>B</th>\n",
       "      <th>C</th>\n",
       "      <th>D</th>\n",
       "      <th>Total</th>\n",
       "    </tr>\n",
       "  </thead>\n",
       "  <tbody>\n",
       "    <tr>\n",
       "      <th>White collar</th>\n",
       "      <td>90</td>\n",
       "      <td>60</td>\n",
       "      <td>104</td>\n",
       "      <td>95</td>\n",
       "      <td>349</td>\n",
       "    </tr>\n",
       "    <tr>\n",
       "      <th>Blue collar</th>\n",
       "      <td>30</td>\n",
       "      <td>50</td>\n",
       "      <td>51</td>\n",
       "      <td>20</td>\n",
       "      <td>151</td>\n",
       "    </tr>\n",
       "    <tr>\n",
       "      <th>No Collar</th>\n",
       "      <td>30</td>\n",
       "      <td>40</td>\n",
       "      <td>45</td>\n",
       "      <td>35</td>\n",
       "      <td>150</td>\n",
       "    </tr>\n",
       "    <tr>\n",
       "      <th>Total</th>\n",
       "      <td>150</td>\n",
       "      <td>150</td>\n",
       "      <td>200</td>\n",
       "      <td>150</td>\n",
       "      <td>650</td>\n",
       "    </tr>\n",
       "  </tbody>\n",
       "</table>\n",
       "</div>"
      ],
      "text/plain": [
       "                A    B    C    D  Total\n",
       "White collar   90   60  104   95    349\n",
       "Blue collar    30   50   51   20    151\n",
       "No Collar      30   40   45   35    150\n",
       "Total         150  150  200  150    650"
      ]
     },
     "execution_count": 1,
     "metadata": {},
     "output_type": "execute_result"
    }
   ],
   "source": [
    "# Import module for storing datafram\n",
    "import pandas as pd # for dataframe work\n",
    "import scipy.stats as stats # for calculate chi-square value\n",
    "\n",
    "# Create df with table data. \n",
    "\n",
    "data = {'A':[90, 30, 30, 150], 'B':[60, 50, 40, 150], 'C':[104, 51, 45, 200],\n",
    "        'D':[95, 20, 35, 150], 'Total':[349, 151, 150, 650]}\n",
    "df = pd.DataFrame(data,index=['White collar', 'Blue collar', 'No Collar', 'Total'])\n",
    "\n",
    "# Display the Observed results dataframe table\n",
    "print(\"Data Table\")\n",
    "df"
   ]
  },
  {
   "cell_type": "code",
   "execution_count": 2,
   "metadata": {},
   "outputs": [
    {
     "name": "stdout",
     "output_type": "stream",
     "text": [
      "Observed Results Table\n"
     ]
    },
    {
     "data": {
      "text/html": [
       "<div>\n",
       "<style scoped>\n",
       "    .dataframe tbody tr th:only-of-type {\n",
       "        vertical-align: middle;\n",
       "    }\n",
       "\n",
       "    .dataframe tbody tr th {\n",
       "        vertical-align: top;\n",
       "    }\n",
       "\n",
       "    .dataframe thead th {\n",
       "        text-align: right;\n",
       "    }\n",
       "</style>\n",
       "<table border=\"1\" class=\"dataframe\">\n",
       "  <thead>\n",
       "    <tr style=\"text-align: right;\">\n",
       "      <th></th>\n",
       "      <th>A</th>\n",
       "      <th>B</th>\n",
       "      <th>C</th>\n",
       "      <th>D</th>\n",
       "    </tr>\n",
       "  </thead>\n",
       "  <tbody>\n",
       "    <tr>\n",
       "      <th>White collar</th>\n",
       "      <td>90</td>\n",
       "      <td>60</td>\n",
       "      <td>104</td>\n",
       "      <td>95</td>\n",
       "    </tr>\n",
       "    <tr>\n",
       "      <th>Blue collar</th>\n",
       "      <td>30</td>\n",
       "      <td>50</td>\n",
       "      <td>51</td>\n",
       "      <td>20</td>\n",
       "    </tr>\n",
       "    <tr>\n",
       "      <th>No Collar</th>\n",
       "      <td>30</td>\n",
       "      <td>40</td>\n",
       "      <td>45</td>\n",
       "      <td>35</td>\n",
       "    </tr>\n",
       "  </tbody>\n",
       "</table>\n",
       "</div>"
      ],
      "text/plain": [
       "               A   B    C   D\n",
       "White collar  90  60  104  95\n",
       "Blue collar   30  50   51  20\n",
       "No Collar     30  40   45  35"
      ]
     },
     "execution_count": 2,
     "metadata": {},
     "output_type": "execute_result"
    }
   ],
   "source": [
    "# Create observed results df. Code adapted from [2.3]\n",
    "df_obs = df.iloc[0:3, 0:4].copy()\n",
    "\n",
    "# Display the Observed results dataframe table\n",
    "print(\"Observed Results Table\")\n",
    "df_obs"
   ]
  },
  {
   "cell_type": "code",
   "execution_count": 3,
   "metadata": {},
   "outputs": [
    {
     "name": "stdout",
     "output_type": "stream",
     "text": [
      "Expected Results Table\n"
     ]
    },
    {
     "data": {
      "text/html": [
       "<div>\n",
       "<style scoped>\n",
       "    .dataframe tbody tr th:only-of-type {\n",
       "        vertical-align: middle;\n",
       "    }\n",
       "\n",
       "    .dataframe tbody tr th {\n",
       "        vertical-align: top;\n",
       "    }\n",
       "\n",
       "    .dataframe thead th {\n",
       "        text-align: right;\n",
       "    }\n",
       "</style>\n",
       "<table border=\"1\" class=\"dataframe\">\n",
       "  <thead>\n",
       "    <tr style=\"text-align: right;\">\n",
       "      <th></th>\n",
       "      <th>A</th>\n",
       "      <th>B</th>\n",
       "      <th>C</th>\n",
       "      <th>D</th>\n",
       "    </tr>\n",
       "  </thead>\n",
       "  <tbody>\n",
       "    <tr>\n",
       "      <th>White collar</th>\n",
       "      <td>80.54</td>\n",
       "      <td>80.54</td>\n",
       "      <td>107.38</td>\n",
       "      <td>80.54</td>\n",
       "    </tr>\n",
       "    <tr>\n",
       "      <th>Blue collar</th>\n",
       "      <td>34.85</td>\n",
       "      <td>34.85</td>\n",
       "      <td>46.46</td>\n",
       "      <td>34.85</td>\n",
       "    </tr>\n",
       "    <tr>\n",
       "      <th>No Collar</th>\n",
       "      <td>34.62</td>\n",
       "      <td>34.62</td>\n",
       "      <td>46.15</td>\n",
       "      <td>34.62</td>\n",
       "    </tr>\n",
       "  </tbody>\n",
       "</table>\n",
       "</div>"
      ],
      "text/plain": [
       "                  A      B       C      D\n",
       "White collar  80.54  80.54  107.38  80.54\n",
       "Blue collar   34.85  34.85   46.46  34.85\n",
       "No Collar     34.62  34.62   46.15  34.62"
      ]
     },
     "execution_count": 3,
     "metadata": {},
     "output_type": "execute_result"
    }
   ],
   "source": [
    "# Copy the data table to form the expected results table dataframe. Code adapted from\n",
    "# https://pandas.pydata.org/pandas-docs/stable/reference/api/pandas.DataFrame.copy.html\n",
    "df_exp = df.copy()\n",
    "\n",
    "i, j = 0, 0\n",
    "# Loop for 3 rows\n",
    "while i < 3:\n",
    "    # Loop for 4 columns\n",
    "    while j < 4:\n",
    "        df_exp.iloc[i,j] = df_exp.iloc[-1,j]*df_exp.iloc[i,-1]/df_exp.iloc[-1,-1]\n",
    "        j += 1\n",
    "    j = 0\n",
    "    i += 1\n",
    "    \n",
    "# Drop total column and total row. Code adapted from\n",
    "# https://pandas.pydata.org/pandas-docs/stable/reference/api/pandas.DataFrame.drop.html\n",
    "df_exp = df_exp.drop(['Total'], axis=1).drop(['Total'], axis=0)\n",
    "\n",
    "# Display Expected results dataframe Table\n",
    "print(\"Expected Results Table\")\n",
    "df_exp.round(2)"
   ]
  },
  {
   "cell_type": "code",
   "execution_count": 4,
   "metadata": {},
   "outputs": [
    {
     "name": "stdout",
     "output_type": "stream",
     "text": [
      "Partial Chi-squared value Results Table\n"
     ]
    },
    {
     "data": {
      "text/html": [
       "<div>\n",
       "<style scoped>\n",
       "    .dataframe tbody tr th:only-of-type {\n",
       "        vertical-align: middle;\n",
       "    }\n",
       "\n",
       "    .dataframe tbody tr th {\n",
       "        vertical-align: top;\n",
       "    }\n",
       "\n",
       "    .dataframe thead th {\n",
       "        text-align: right;\n",
       "    }\n",
       "</style>\n",
       "<table border=\"1\" class=\"dataframe\">\n",
       "  <thead>\n",
       "    <tr style=\"text-align: right;\">\n",
       "      <th></th>\n",
       "      <th>A</th>\n",
       "      <th>B</th>\n",
       "      <th>C</th>\n",
       "      <th>D</th>\n",
       "    </tr>\n",
       "  </thead>\n",
       "  <tbody>\n",
       "    <tr>\n",
       "      <th>White collar</th>\n",
       "      <td>1.11</td>\n",
       "      <td>5.24</td>\n",
       "      <td>0.11</td>\n",
       "      <td>2.60</td>\n",
       "    </tr>\n",
       "    <tr>\n",
       "      <th>Blue collar</th>\n",
       "      <td>0.67</td>\n",
       "      <td>6.59</td>\n",
       "      <td>0.44</td>\n",
       "      <td>6.33</td>\n",
       "    </tr>\n",
       "    <tr>\n",
       "      <th>No Collar</th>\n",
       "      <td>0.62</td>\n",
       "      <td>0.84</td>\n",
       "      <td>0.03</td>\n",
       "      <td>0.00</td>\n",
       "    </tr>\n",
       "  </tbody>\n",
       "</table>\n",
       "</div>"
      ],
      "text/plain": [
       "                 A     B     C     D\n",
       "White collar  1.11  5.24  0.11  2.60\n",
       "Blue collar   0.67  6.59  0.44  6.33\n",
       "No Collar     0.62  0.84  0.03  0.00"
      ]
     },
     "execution_count": 4,
     "metadata": {},
     "output_type": "execute_result"
    }
   ],
   "source": [
    "# Calculate Partial Chi-squared values\n",
    "df_chi = ((df_obs - df_exp)**2)/df_exp\n",
    "\n",
    "# Display partial Chi-squared value dataframe Table\n",
    "print(\"Partial Chi-squared value Results Table\")  \n",
    "df_chi.round(2)"
   ]
  },
  {
   "cell_type": "code",
   "execution_count": 5,
   "metadata": {},
   "outputs": [
    {
     "name": "stdout",
     "output_type": "stream",
     "text": [
      "The manually calculated chi-square value is ~24.6\n"
     ]
    }
   ],
   "source": [
    "# Calculate full Chi-squared value. Code adapted from\n",
    "# https://www.geeksforgeeks.org/python-pandas-dataframe-sum\n",
    "#  https://medium.com/@nhan.tran/the-chi-square-statistic-p3-programming-with-python-87eb079f36af\n",
    "chi2_man = df_chi.sum().sum()\n",
    "\n",
    "print(f\"The manually calculated chi-square value is ~{chi2_man:.1f}\")"
   ]
  },
  {
   "cell_type": "code",
   "execution_count": 6,
   "metadata": {},
   "outputs": [
    {
     "name": "stdout",
     "output_type": "stream",
     "text": [
      "The scipy.stats calculated chi-squared test value is ~24.6\n",
      "with a p-value of 0.000410 and degrees of freedom of 6.\n"
     ]
    }
   ],
   "source": [
    "# Calculate Chi-square value using scipy.stats library. Code adapted from\n",
    "# https://docs.scipy.org/doc/scipy/reference/generated/scipy.stats.chi2_contingency.html\n",
    "chi2_ss, p_ss, dof_ss, exp_ss = stats.chi2_contingency(df_obs)\n",
    "\n",
    "# Disply the results of the Chi-square test\n",
    "print(f\"\"\"The scipy.stats calculated chi-squared test value is ~{chi2_ss:.1f}\n",
    "with a p-value of {p_ss:.6f} and degrees of freedom of {dof_ss}.\"\"\")"
   ]
  },
  {
   "cell_type": "code",
   "execution_count": 7,
   "metadata": {},
   "outputs": [
    {
     "name": "stdout",
     "output_type": "stream",
     "text": [
      "The scipy.stats calculated critical value is 12.6\n"
     ]
    }
   ],
   "source": [
    "# Caluclate critical value for a probability level of 5% (0.95). Code adapted from \n",
    "#  https://medium.com/@nhan.tran/the-chi-square-statistic-p3-programming-with-python-87eb079f36af\n",
    "crit_ss = stats.chi2.ppf(q=0.95, df=dof_ss)\n",
    "print(f\"The scipy.stats calculated critical value is {crit_ss:.1f}\")"
   ]
  },
  {
   "cell_type": "markdown",
   "metadata": {},
   "source": [
    "\n",
    "The Chi-squared value and p-value can be calculated using the scipy.stats.chi2_contingency method and the critical Chi-squared value can be calculated using the stats.chi2.ppf method. The calculate Chi-squared value (24.6) is higher than the critical value (12.6) for a 5% significance level and degrees of freedom in the sampled data. As such, we can reject the null hypotheses that the categories are independent of each other."
   ]
  },
  {
   "cell_type": "markdown",
   "metadata": {},
   "source": [
    "### References and Biblography for Task 2\n",
    "\n",
    "1. https://machinelearningmastery.com/chi-squared-test-for-machine-learning/\n",
    "2. https://en.wikipedia.org/wiki/Chi-squared_test\n",
    "3. Urdan, T., 2010. Statistics In Plain English. New York: Routledge.\n",
    "\n",
    "* https://www.geeksforgeeks.org/different-ways-to-create-pandas-dataframe/ and\n",
    "* https://stackoverflow.com/a/60909202\n",
    "* https://pandas.pydata.org/pandas-docs/stable/reference/api/pandas.DataFrame.copy.html\n",
    "* https://pandas.pydata.org/pandas-docs/stable/reference/api/pandas.DataFrame.drop.html\n",
    "* https://www.geeksforgeeks.org/python-pandas-dataframe-sum\n",
    "* https://medium.com/@nhan.tran/the-chi-square-statistic-p3-programming-with-python-87eb079f36af\n",
    "* https://docs.scipy.org/doc/scipy/reference/generated/scipy.stats.chi2_contingency.html\n",
    "* https://medium.com/@nhan.tran/the-chi-square-statistic-p3-programming-with-python-87eb079f36af"
   ]
  },
  {
   "cell_type": "markdown",
   "metadata": {},
   "source": [
    "## Task 3 - Standard Deviation"
   ]
  },
  {
   "cell_type": "markdown",
   "metadata": {},
   "source": [
    "The standard deviation of an array of numbers x is calculated using numpy as np.sqrt(np.sum((x - np.mean(x))**2)/len(x). However, Microsoft Excel has two different versions of the standard deviatio calculation, STDEV.P and STDEV.S . The STDEV.P function performs the above calculation but in the STDEV.S calculation the division is by len(x)-1 rather\n",
    "than len(x) . Research these Excel functions, writing a note in a Markdown cell about the difference between them. Then use numpy to perform a simulation demonstrating that the STDEV.S calculation is a better estimate for the standard deviation of a population when performed on a sample. Note that part of this task is to figure out the terminology in the previous sentence.\n"
   ]
  },
  {
   "cell_type": "markdown",
   "metadata": {},
   "source": [
    "### Standard Deviation\n",
    "\n",
    "\"The standard deviation is a measure of the spread of scores within a set of data. Usually, we are interested in the standard deviation of a population. However, as we are often presented with data from a sample only, we can estimate the population standard deviation from a sample standard deviation. These two standard deviations - sample and population standard deviations - are calculated differently.\" [1]  deviation tells you how spread out the data is. It is a measure of how far each observed value is from the mean. In any distribution, about 95% of values will be within 2 standard deviations of the mean.\n",
    "\n",
    "\n",
    "![image](https://raw.githubusercontent.com/NiamhOL/Machine-Learning-and-Statistics-2020-Tasks/main/images/Std.PNG) \n",
    "\n",
    "\n",
    "Generally we are more interested in the population standard deciation as our population contains all the values we are interested in. However, in statistics, we are often only presented with a sample of the population and therefore have to estimate or generalise a population. In this case, were we wish to make a statement about the population standard deviation from which a sample is drawn, we use the sample standard deviation. \n",
    "\n",
    "SD =\\sqrt{\\dfrac{\\sum \\left| x-\\mu \\right| ^{2}}{N}}\n",
    "\n"
   ]
  },
  {
   "cell_type": "markdown",
   "metadata": {},
   "source": [
    "### Microsoft Excel STDEV.P function"
   ]
  },
  {
   "cell_type": "markdown",
   "metadata": {},
   "source": [
    "### Microsoft Excel STDEV.S function"
   ]
  },
  {
   "cell_type": "code",
   "execution_count": 5,
   "metadata": {},
   "outputs": [],
   "source": [
    "# For statistics\n",
    "import scipy.stats as ss\n",
    "# For plotting\n",
    "import matplotlib.pyplot as plt\n",
    "plt.rcParams['figure.figsize'] = (10.0, 8.0) # Make nice big figures\n",
    "# For arrays\n",
    "import numpy as np"
   ]
  },
  {
   "cell_type": "markdown",
   "metadata": {},
   "source": [
    "### References and Biblography for Task 3\n",
    "\n",
    "1. https://statistics.laerd.com/statistical-guides/measures-of-spread-standard-deviation.php\n"
   ]
  }
 ],
 "metadata": {
  "kernelspec": {
   "display_name": "Python 3",
   "language": "python",
   "name": "python3"
  },
  "language_info": {
   "codemirror_mode": {
    "name": "ipython",
    "version": 3
   },
   "file_extension": ".py",
   "mimetype": "text/x-python",
   "name": "python",
   "nbconvert_exporter": "python",
   "pygments_lexer": "ipython3",
   "version": "3.8.3"
  }
 },
 "nbformat": 4,
 "nbformat_minor": 4
}
