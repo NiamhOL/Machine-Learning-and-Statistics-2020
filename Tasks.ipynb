{
 "cells": [
  {
   "cell_type": "markdown",
   "metadata": {},
   "source": [
    "# Machine Learning and Statistics - Tasks\n"
   ]
  },
  {
   "cell_type": "markdown",
   "metadata": {},
   "source": [
    "## Task 1 - Square Root"
   ]
  },
  {
   "cell_type": "markdown",
   "metadata": {},
   "source": [
    "\n",
    "\n",
    "This assignment demonstrates how to create a Python function called  $sqrt2$  that calculates and prints to the screen the square root of 2 to 100 decimal places. This code cannot depend on any of the modules available in the standard library. \n"
   ]
  },
  {
   "cell_type": "markdown",
   "metadata": {},
   "source": [
    "### Research \n",
    "\n",
    "\"The early Pythagoreans were convinced that every conceivable number could in principle be written in fractional form, as the ratio of two natural numbers. Since there is an infinite supply of natural numbers, they thought, there must be enough to do the job. The discovery that this was an erroneous belief, possibly by the geometer Hippasus in the 5th century BCE, was shocking news. According to legend, Hippasus was hurled off a boat and drowned to prevent the truth becoming widely known, such was its threat to the Pythagorean concept of order in the Universe!.\" [1] \n",
    "\n",
    "Numbers that cannot be expressed as a ratio of natural numbers are called irrational numbers, even though they make perfect sense to modern mathematicians. It is actually easy to see why some numbers are irrational. A famous example is the square root of 2, which is roughly 1.4142, and denoted √2. \n",
    "\n",
    "Before one can attempt to write Python code for ...sqrt2..., it is important to gain a better understanding of an effecient method of calculation. \"Newton’s method also known as Newton-Raphson method is a root-finding algorithm that produces successively better approximations of the roots of a real-valued function.\" [2]\n",
    "\n",
    "$$x_{n+1}=\\dfrac{1}{2}\\left( x_{n}+\\dfrac{a}{x_{n}}\\right)$$\n",
    "\n",
    "The approximations of the root go as:\n",
    "\n",
    "$x_(n+1) = x_n - f(x_n) / f(x_n)$, $x_0$  is the rough approximation of the root done at the first and the successive approximations go as  $x_1, x_2,...$. $f(x_n)$ is the function whose root is to be determined and $f(x_n)$ is the derivative of the function.\n",
    "\n",
    "\"Newton's Method is used to find successive approximations to the roots of a function. If the function is y = f(x) and x0 is close to a root, then we usually expect the formula below to give x1 as a better approximation. Then you plug the x1 back in as x0 and iterate\" (2)\n",
    "\n",
    "Newton's Method for square root goes as follows;(4) \n",
    "If we have to find the square root of a number n, the function would be $f(x) = x² - N$ and we would have to find theroot of the function,$f(x)$\n",
    "\n",
    "Here, the value $f(x_n) at x = x_n$ is $f(x_n) = x_n² - N$\n",
    "\n",
    "And, the derivative at the point is $f(x_n) = 2 * x_n$\n",
    "\n",
    "Now, the better approximation can be found using [1]\n",
    "\n",
    "$$ x_(n+1) = x_n - (x_n² - N) / (2 * x_n) $$\n",
    "$$ x_(n+1) = x_n - x_n² / (2 * x_n) + N/ (2 * x_n) $$\n",
    "$$ x_(n+1) = x_n - x_n / 2+ N/ (2 * x_n) $$\n",
    "$$ x_(n+1) = x_n / 2+ N/ (2 * x_n) $$\n",
    "$$ x_(n+1) = (x_n + N/ x_n) / 2 $$\n",
    "\n",
    "Integer square root of a number is the floor of the square root. The algorithm can be modified a little to find integer square root of a number. The while condition here would be approximate $*$ approximate $> N$. The algorithm terminates when the approximate squared is less than or equal to N.\n",
    "The iteration relation here is:\n",
    "\n",
    "$x_(n+1) = (x_n + N // x_n) // 2$ where $//$ is integer division [4]\n",
    "\n",
    "A classic analysis text (Rudin, Principles of Mathematical Analysis) approaches the proof of convergence of this algorithm as follows: we prove that the sequence converges monotonically and is bounded, and hence it has a limit; we then easily see that the limit is $√$ [5]\n",
    "\n",
    "This method can be applied to the calculating the square root of 2. If we start with $x_1=1$\n",
    "\n",
    "The number of accurate digits approximately doubles on each iteration. This is a very efficient concergence rate.\n",
    "\n",
    "![image](https://raw.githubusercontent.com/NiamhOL/Machine-Learning-and-Statistics-2020-Assignments/main/images/Newton.PNG) \n",
    "\n",
    "### AdvantagesDisadvantages of Newton's Method\n",
    "\n",
    "When it converges, Newton's method usually converges very quickly and this is its main advantage. However, Newton's method is not guaranteed to converge and this is obviously a big disadvantage especially compared to the bisection and secant methods which are guaranteed to converge to a solution (provided they start with an interval containing a root).\n",
    "\n",
    "Newton's method also requires computing values of the derivative of the function in question. This is potentially a disadvantage if the derivative is difficult to compute. \n",
    "\n",
    "The stopping criteria for Newton's method differs from the bisection and secant methods. In those methods, we know how close we are to a solution because we are computing intervals which contain a solution. In Newton's method, we don't know how close we are to a solution. All we can compute is the value  and so we implement a stopping criteria based on.\"[3]\n"
   ]
  },
  {
   "cell_type": "markdown",
   "metadata": {},
   "source": [
    "\n",
    "## Square Root 2 in Python \n",
    "\n",
    "Loops are often used in programs that compute numerical results by starting with an approximate answer and iteratively improving it. Suppose that you want to know the square root of n. If you start with almost any approximation, you can compute a better approximation with the following formula:\n",
    "\n",
    "\n",
    "The following implementation of Newton’s method requires two parameters. The first is the value whose square root will be approximated. The second is the number of times to iterate the calculation yielding a better result [7]"
   ]
  },
  {
   "cell_type": "code",
   "execution_count": 8,
   "metadata": {},
   "outputs": [
    {
     "name": "stdout",
     "output_type": "stream",
     "text": [
      "1.414213562373095\n"
     ]
    }
   ],
   "source": [
    "def newton_method(number, number_iters = 500):    # https://medium.com/@sddkal/newton-square-root-method-in-python-270853e9185d\n",
    "    a = float(number) # number to get square root of\n",
    "    for i in range(number_iters): # iteration number\n",
    "        number = 0.5 * (number + a / number) # update\n",
    " # x_(n+1) = 0.5 * (x_n +a / x_n)\n",
    "    return number\n",
    "\n",
    "print (newton_method(2))"
   ]
  },
  {
   "cell_type": "code",
   "execution_count": 3,
   "metadata": {},
   "outputs": [
    {
     "name": "stdout",
     "output_type": "stream",
     "text": [
      "1.4142135623730950488016887242096980785696718753769480731766797379907324784621070388503875343276415727\n"
     ]
    }
   ],
   "source": [
    "x = 2 * 10 ** 200  \n",
    "r = x\n",
    "\n",
    "def sqrt2(x, r):\n",
    "    d0 = abs(x - r**2)\n",
    "    dm = abs(x - (r-1)**2)\n",
    "    dp = abs(x - (r+1)**2)\n",
    "    minimised = d0 <= dm and d0 <= dp\n",
    "    below_min = dp < dm\n",
    "    return minimised, below_min\n",
    "\n",
    "while True:\n",
    "    oldr = r\n",
    "    r = (r + x // r) // 2\n",
    "\n",
    "    minimised, below_min = sqrt2(x, r)\n",
    "    if minimised:\n",
    "        break\n",
    "\n",
    "    if r == oldr:\n",
    "        if below_min:\n",
    "            r += 1\n",
    "        else:\n",
    "            r -= 1\n",
    "        minimised, _ = sqrt2(x, r)\n",
    "        if minimised:\n",
    "            break\n",
    "\n",
    "print(f'{r // 10**100}.{r % 10**100:0100d}') # [8]"
   ]
  },
  {
   "cell_type": "markdown",
   "metadata": {},
   "source": [
    "\"Newton’s algorithm will eventually reach a point where the new approximation is no better than the previous. At that point, we could simply stop. In other words, by repeatedly applying this formula until the better approximation gets close enough to the previous one, we can write a function for computing the square root that uses the number of iterations necessary and no more.\n",
    "\n",
    "This implementation, shown in codelens, uses a while condition to execute until the approximation is no longer changing. Each time through the loop we compute a “better” approximation using the formula described earlier. As long as the “better” is different, we try again. Step through the program and watch the approximations get closer and closer.\" [7]"
   ]
  },
  {
   "cell_type": "markdown",
   "metadata": {},
   "source": [
    "## Validating the above method"
   ]
  },
  {
   "cell_type": "code",
   "execution_count": 7,
   "metadata": {},
   "outputs": [
    {
     "data": {
      "text/plain": [
       "Decimal('1.4142135623730950488016887242096980785696718753769480731766797379907324784621070388503875343276415727')"
      ]
     },
     "execution_count": 7,
     "metadata": {},
     "output_type": "execute_result"
    }
   ],
   "source": [
    "from decimal import *\n",
    "getcontext().prec = 101 # Can try other numbers here\n",
    "Decimal(2).sqrt()"
   ]
  },
  {
   "cell_type": "code",
   "execution_count": null,
   "metadata": {},
   "outputs": [],
   "source": [
    "# https://apod.nasa.gov/htmltest/gifcity/sqrt2.1mil [10]\n",
    "sqrt2byNasa = \"1.4142135623730950488016887242096980785696718753769480731766797379907324784621070388503875343276415727\"\n",
    "# check I have 100 decimal places places/ 101 significant places.\n",
    "import re\n",
    "# verify 100 decimal places\n",
    "print(\"number of significant digits\",len(str(sqrt2byNasa)[1:]))\n"
   ]
  },
  {
   "cell_type": "markdown",
   "metadata": {},
   "source": [
    "## Conclusions \n",
    "\n",
    "The algorithm for Newton’s method for numerically approximating a root of a function can be summarised as follows:\n",
    "\n",
    "* Given a function $ f(x) $ of a variable x and a way to compute both $f(xi)$ and its derivative $ f(xi)$ at a given point $ xi.$\n",
    "* Set values for the desired numerical relative precision Δd of the result as well as for the maximum number of iterations N the algorithm is allowed to take.\n",
    "* Choose an initial guess $ x0 $, ideally close to the location of the root to be approximated.\n",
    "* Compute the next approximation x1 for the root as\n",
    "$ x1=x0–f(x0)f(x0) $\n",
    "* Repeat as $ xi+1=xi–f(xi)f(xi)$ and compute the relative difference between the approximations as\n",
    "$ Δ=|xi+1−xi||xi|=|f(xi)||f(xi)xi| $ until one of two things happens:\n",
    "1. the maximum number of allowed iterations is reached, i.e., $ i>N $\n",
    "2. the desired numerical relative precision is reached, i.e., $ \\Delta <\\Delta d $\n",
    "\n",
    "If the algorithm reaches the maximum number of iterations that you set, this can but does not have to indicate that convergence is not possible. Experimentation with suitable values for both Δd and N may be needed to arrive at a satisfactory result. [9] "
   ]
  },
  {
   "cell_type": "markdown",
   "metadata": {},
   "source": [
    "### References and Biblography for Task 1\n",
    "\n",
    "1. https://cosmosmagazine.com/mathematics/the-square-root-of-2/\n",
    "\n",
    "2. https://hackernoon.com/calculating-the-square-root-of-a-number-using-the-newton-raphson-method-a-how-to-guide-yr4e32zo\n",
    "\n",
    "3. http://www.cs.utsa.edu/~wagner/CS3343/newton/sqrt.html\n",
    "\n",
    "4. https://www.math.ubc.ca/~pwalls/math-python/roots-optimization/newton/\n",
    "\n",
    "5. https://medium.com/@surajregmi/how-to-calculate-the-square-root-of-a-number-newton-raphson-method-f8007714f64\n",
    "\n",
    "6. https://math.mit.edu/~stevenj/18.335/newton-sqrt.pdf\n",
    "\n",
    "7. https://runestone.academy/runestone/books/published/thinkcspy/MoreAboutIteration/NewtonsMethod.html\n",
    "\n",
    "8. https://stackoverflow.com/questions/64278117/is-there-a-way-to-create-more-decimal-points-on-python-without-importing-a-libra\n",
    " \n",
    "9. https://computingskillset.com/solving-equations/the-newton-raphson-method-explained-details-pictures-python-code/\n",
    "\n",
    " \n",
    " \n"
   ]
  },
  {
   "cell_type": "markdown",
   "metadata": {},
   "source": [
    "## Task 2 - Chi Squared\n",
    "\n",
    "The Chi-squared test for independence is a statistical hypothesis test like a t-test. It is used to analyse whether two categorical variables are independent. The Wikipedia article gives the table below as an example,stating the Chi-squared value based on it is approximately 24.6. Use scipy.stats to verify this value and calculate the associated p value. You should include a short note with references justifying your analysis in a markdown cell."
   ]
  },
  {
   "cell_type": "markdown",
   "metadata": {},
   "source": [
    "### Introduction\n",
    "\n",
    "\"The Chi-Squared test is a statistical hypothesis test that assumes (the null hypothesis) that the observed frequencies for a categorical variable match the expected frequencies for the categorical variable. The test calculates a statistic that has a chi-squared distribution, named for the Greek capital letter Chi (X) pronounced “ki” as in kite.\" [1] In the exampl used from Wikipedia, a random sample of 650 residents of a city was taken and their occupation was recorded as \"white collar\" \"blue collar\" or \"no collar\". The null hypothesis is that each person's neighbourhood of residence is independent of the person's occupation classification.\n",
    "\n",
    "![Image](https://raw.githubusercontent.com/NiamhOL/Machine-Learning-and-Statistics-2020-Assignments/main/images/ChiSq.PNG)\n",
    "\n",
    "$$ \\dfrac{\\left( observed-\\exp ected\\right) ^{2}}{\\exp ected}= \\dfrac{\\left( 90-80.54\\right) ^{2}}{80.54}\\simeq 1.11 $$\n",
    "\n",
    "In that \"cell\" of the table we have\n",
    "\n",
    "$$ 150\\times \\dfrac{349}{650}\\simeq 80.54 $$\n",
    "\n",
    "The sum of these quantities over all of the cells is the test statistic; in this case, {\\displaystyle \\approx 24.6}{\\displaystyle \\approx 24.6}. Under the null hypothesis, this sum has approximately a chi-squared distribution whose number of degrees of freedom are\n",
    "\n",
    "If the test statistic is improbably large according to that chi-squared distribution, then one rejects the null hypothesis of independence.[2]\n",
    "\n",
    "The Chi-Squared test does this for a contingency table, first calculating the expected frequencies for the groups, then determining whether the division of the groups, called the observed frequencies, matches the expected frequencies.\n",
    "\n",
    "The result of the test is a test statistic that has a chi-squared distribution and can be interpreted to reject or fail to reject the assumption or null hypothesis that the observed and expected frequencies are the same. Variables are considered independent if the observed and expected frequencies are similar, that the levels of the variables do not interact, are not dependent. \"The chi-square test of independence works by comparing the categorically coded data that you have collected (known as the observed frequencies) with the frequencies that you would expect to get in each cell of a table by chance alone (known as the expected frequencies.\" [3] \n",
    "\n",
    "We can interpret the test statistic in the context of the chi-squared distribution with the requisite number of degress of freedom as follows:\n",
    "\n",
    "If Statistic >= Critical Value: significant result, reject null hypothesis (H0), dependent.\n",
    "If Statistic < Critical Value: not significant result, fail to reject null hypothesis (H0), independent.\n",
    "The degrees of freedom for the chi-squared distribution is calculated based on the size of the contingency table as:\n",
    "\n",
    "In terms of a p-value and a chosen significance level (alpha), the test can be interpreted as follows:\n",
    "\n",
    "If p-value <= alpha: significant result, reject null hypothesis (H0), dependent.\n",
    "If p-value > alpha: not significant result, fail to reject null hypothesis (H0), independent.\n",
    "For the test to be effective, at least five observations are required in each cell of the contingency table. [1]\n"
   ]
  },
  {
   "cell_type": "markdown",
   "metadata": {},
   "source": [
    "### Chi-Squared and Python\n",
    "\n",
    "In the stats library of scipy, we can call for two chi-square test commands, one is 'chi2_contingency' and another is 'chisquare'. We use 'chi-square' when we want to find any relation between two categorical groups. The null hypothesis is: two groups have no significant difference. 'Chisquare' is used when we want to see if a set of discreet random variable is distributed evenly or not. If the data is spread evenly or not is checked by computing a expected frequency of the selected discreet random variable and then it is tallied with the original frequency distribution.\n",
    "\n",
    "'Chi2_contingency' is used to statistically measure p-value, degrees of freedom, and the table of expected observation. \n",
    "\n"
   ]
  },
  {
   "cell_type": "code",
   "execution_count": 13,
   "metadata": {},
   "outputs": [
    {
     "name": "stdout",
     "output_type": "stream",
     "text": [
      "[[0.65592958 2.86783565 4.29590044]\n",
      " [0.5927611  2.09287617 1.8128456 ]]\n"
     ]
    }
   ],
   "source": [
    "from numpy import random\n",
    "x = random.chisquare(df=2, size=(2, 3))\n",
    "print(x)"
   ]
  },
  {
   "cell_type": "code",
   "execution_count": 14,
   "metadata": {},
   "outputs": [
    {
     "data": {
      "image/png": "[encoded data removed]",
      "text/plain": [
       "<Figure size 432x288 with 1 Axes>"
      ]
     },
     "metadata": {
      "needs_background": "light"
     },
     "output_type": "display_data"
    }
   ],
   "source": [
    "from numpy import random\n",
    "import matplotlib.pyplot as plt\n",
    "import seaborn as sns\n",
    "\n",
    "sns.distplot(random.chisquare(df=1, size=1000), hist=False)\n",
    "plt.show()"
   ]
  },
  {
   "cell_type": "markdown",
   "metadata": {},
   "source": [
    "Chi-Square test is a statistical method to determine if two categorical variables have a significant correlation between them. We use various functions in numpy library to carry out the chi-square test.[12]"
   ]
  },
  {
   "cell_type": "code",
   "execution_count": 22,
   "metadata": {},
   "outputs": [
    {
     "name": "stdout",
     "output_type": "stream",
     "text": [
      "Data Table\n"
     ]
    },
    {
     "data": {
      "text/html": [
       "<div>\n",
       "<style scoped>\n",
       "    .dataframe tbody tr th:only-of-type {\n",
       "        vertical-align: middle;\n",
       "    }\n",
       "\n",
       "    .dataframe tbody tr th {\n",
       "        vertical-align: top;\n",
       "    }\n",
       "\n",
       "    .dataframe thead th {\n",
       "        text-align: right;\n",
       "    }\n",
       "</style>\n",
       "<table border=\"1\" class=\"dataframe\">\n",
       "  <thead>\n",
       "    <tr style=\"text-align: right;\">\n",
       "      <th></th>\n",
       "      <th>A</th>\n",
       "      <th>B</th>\n",
       "      <th>C</th>\n",
       "      <th>D</th>\n",
       "      <th>Total</th>\n",
       "    </tr>\n",
       "  </thead>\n",
       "  <tbody>\n",
       "    <tr>\n",
       "      <th>White collar</th>\n",
       "      <td>90</td>\n",
       "      <td>60</td>\n",
       "      <td>104</td>\n",
       "      <td>95</td>\n",
       "      <td>349</td>\n",
       "    </tr>\n",
       "    <tr>\n",
       "      <th>Blue collar</th>\n",
       "      <td>30</td>\n",
       "      <td>50</td>\n",
       "      <td>51</td>\n",
       "      <td>20</td>\n",
       "      <td>151</td>\n",
       "    </tr>\n",
       "    <tr>\n",
       "      <th>No Collar</th>\n",
       "      <td>30</td>\n",
       "      <td>40</td>\n",
       "      <td>45</td>\n",
       "      <td>35</td>\n",
       "      <td>150</td>\n",
       "    </tr>\n",
       "    <tr>\n",
       "      <th>Total</th>\n",
       "      <td>150</td>\n",
       "      <td>150</td>\n",
       "      <td>200</td>\n",
       "      <td>150</td>\n",
       "      <td>650</td>\n",
       "    </tr>\n",
       "  </tbody>\n",
       "</table>\n",
       "</div>"
      ],
      "text/plain": [
       "                A    B    C    D  Total\n",
       "White collar   90   60  104   95    349\n",
       "Blue collar    30   50   51   20    151\n",
       "No Collar      30   40   45   35    150\n",
       "Total         150  150  200  150    650"
      ]
     },
     "execution_count": 22,
     "metadata": {},
     "output_type": "execute_result"
    }
   ],
   "source": [
    "# Import module for storing dataframe and calculating chi-square\n",
    "import pandas as pd \n",
    "import scipy.stats as stats \n",
    "\n",
    "# Create df with table data. \n",
    "\n",
    "data = {'A':[90, 30, 30, 150], 'B':[60, 50, 40, 150], 'C':[104, 51, 45, 200],\n",
    "        'D':[95, 20, 35, 150], 'Total':[349, 151, 150, 650]}\n",
    "df = pd.DataFrame(data,index=['White collar', 'Blue collar', 'No Collar', 'Total'])\n",
    "\n",
    "# Display the Observed results \n",
    "print(\"Data Table\")\n",
    "df"
   ]
  },
  {
   "cell_type": "code",
   "execution_count": 23,
   "metadata": {},
   "outputs": [
    {
     "name": "stdout",
     "output_type": "stream",
     "text": [
      "Observed Results Table\n"
     ]
    },
    {
     "data": {
      "text/html": [
       "<div>\n",
       "<style scoped>\n",
       "    .dataframe tbody tr th:only-of-type {\n",
       "        vertical-align: middle;\n",
       "    }\n",
       "\n",
       "    .dataframe tbody tr th {\n",
       "        vertical-align: top;\n",
       "    }\n",
       "\n",
       "    .dataframe thead th {\n",
       "        text-align: right;\n",
       "    }\n",
       "</style>\n",
       "<table border=\"1\" class=\"dataframe\">\n",
       "  <thead>\n",
       "    <tr style=\"text-align: right;\">\n",
       "      <th></th>\n",
       "      <th>A</th>\n",
       "      <th>B</th>\n",
       "      <th>C</th>\n",
       "      <th>D</th>\n",
       "    </tr>\n",
       "  </thead>\n",
       "  <tbody>\n",
       "    <tr>\n",
       "      <th>White collar</th>\n",
       "      <td>90</td>\n",
       "      <td>60</td>\n",
       "      <td>104</td>\n",
       "      <td>95</td>\n",
       "    </tr>\n",
       "    <tr>\n",
       "      <th>Blue collar</th>\n",
       "      <td>30</td>\n",
       "      <td>50</td>\n",
       "      <td>51</td>\n",
       "      <td>20</td>\n",
       "    </tr>\n",
       "    <tr>\n",
       "      <th>No Collar</th>\n",
       "      <td>30</td>\n",
       "      <td>40</td>\n",
       "      <td>45</td>\n",
       "      <td>35</td>\n",
       "    </tr>\n",
       "  </tbody>\n",
       "</table>\n",
       "</div>"
      ],
      "text/plain": [
       "               A   B    C   D\n",
       "White collar  90  60  104  95\n",
       "Blue collar   30  50   51  20\n",
       "No Collar     30  40   45  35"
      ]
     },
     "execution_count": 23,
     "metadata": {},
     "output_type": "execute_result"
    }
   ],
   "source": [
    "# Create observed results df. \n",
    "df_obs = df.iloc[0:3, 0:4].copy()\n",
    "\n",
    "# Display the Observed results \n",
    "print(\"Observed Results Table\")\n",
    "df_obs"
   ]
  },
  {
   "cell_type": "code",
   "execution_count": 24,
   "metadata": {},
   "outputs": [
    {
     "name": "stdout",
     "output_type": "stream",
     "text": [
      "Expected Results Table\n"
     ]
    },
    {
     "data": {
      "text/html": [
       "<div>\n",
       "<style scoped>\n",
       "    .dataframe tbody tr th:only-of-type {\n",
       "        vertical-align: middle;\n",
       "    }\n",
       "\n",
       "    .dataframe tbody tr th {\n",
       "        vertical-align: top;\n",
       "    }\n",
       "\n",
       "    .dataframe thead th {\n",
       "        text-align: right;\n",
       "    }\n",
       "</style>\n",
       "<table border=\"1\" class=\"dataframe\">\n",
       "  <thead>\n",
       "    <tr style=\"text-align: right;\">\n",
       "      <th></th>\n",
       "      <th>A</th>\n",
       "      <th>B</th>\n",
       "      <th>C</th>\n",
       "      <th>D</th>\n",
       "    </tr>\n",
       "  </thead>\n",
       "  <tbody>\n",
       "    <tr>\n",
       "      <th>White collar</th>\n",
       "      <td>80.54</td>\n",
       "      <td>80.54</td>\n",
       "      <td>107.38</td>\n",
       "      <td>80.54</td>\n",
       "    </tr>\n",
       "    <tr>\n",
       "      <th>Blue collar</th>\n",
       "      <td>34.85</td>\n",
       "      <td>34.85</td>\n",
       "      <td>46.46</td>\n",
       "      <td>34.85</td>\n",
       "    </tr>\n",
       "    <tr>\n",
       "      <th>No Collar</th>\n",
       "      <td>34.62</td>\n",
       "      <td>34.62</td>\n",
       "      <td>46.15</td>\n",
       "      <td>34.62</td>\n",
       "    </tr>\n",
       "  </tbody>\n",
       "</table>\n",
       "</div>"
      ],
      "text/plain": [
       "                  A      B       C      D\n",
       "White collar  80.54  80.54  107.38  80.54\n",
       "Blue collar   34.85  34.85   46.46  34.85\n",
       "No Collar     34.62  34.62   46.15  34.62"
      ]
     },
     "execution_count": 24,
     "metadata": {},
     "output_type": "execute_result"
    }
   ],
   "source": [
    "# Copy the data table to form the expected results table dataframe. \n",
    "# https://pandas.pydata.org/pandas-docs/stable/reference/api/pandas.DataFrame.copy.html [4]\n",
    "df_exp = df.copy()\n",
    "\n",
    "i, j = 0, 0\n",
    "# Loop for 3 rows\n",
    "while i < 3:\n",
    "    # Loop for 4 columns\n",
    "    while j < 4:\n",
    "        df_exp.iloc[i,j] = df_exp.iloc[-1,j]*df_exp.iloc[i,-1]/df_exp.iloc[-1,-1]\n",
    "        j += 1\n",
    "    j = 0\n",
    "    i += 1\n",
    "\n",
    "# https://pandas.pydata.org/pandas-docs/stable/reference/api/pandas.DataFrame.drop.html\n",
    "df_exp = df_exp.drop(['Total'], axis=1).drop(['Total'], axis=0)\n",
    "\n",
    "# Display Expected results dataframe Table\n",
    "print(\"Expected Results Table\")\n",
    "df_exp.round(2)"
   ]
  },
  {
   "cell_type": "code",
   "execution_count": 31,
   "metadata": {},
   "outputs": [
    {
     "name": "stdout",
     "output_type": "stream",
     "text": [
      "Chi-square ~24.6\n"
     ]
    }
   ],
   "source": [
    "# Calculate Chi-squared value. \n",
    "# https://www.geeksforgeeks.org/python-pandas-dataframe-sum [8]\n",
    "# https://medium.com/@nhan.tran/the-chi-square-statistic-p3-programming-with-python-87eb079f36af [9]\n",
    "chi2_man = df_chi.sum().sum()\n",
    "\n",
    "print(f\"Chi-square ~{chi2_man:.1f}\")"
   ]
  },
  {
   "cell_type": "code",
   "execution_count": 29,
   "metadata": {},
   "outputs": [
    {
     "name": "stdout",
     "output_type": "stream",
     "text": [
      "The scipy.stats chi-squared test value ~24.6\n",
      "with a p-value of 0.000410 and degrees of freedom of 6.\n"
     ]
    }
   ],
   "source": [
    "# Calculate Chi-square value using scipy.stats library. \n",
    "# https://docs.scipy.org/doc/scipy/reference/generated/scipy.stats.chi2_contingency.html [10]\n",
    "chi2_ss, p_ss, dof_ss, exp_ss = stats.chi2_contingency(df_obs)\n",
    "\n",
    "# Disply the results of the Chi-square test\n",
    "print(f\"\"\"The scipy.stats chi-squared test value ~{chi2_ss:.1f}\n",
    "with a p-value of {p_ss:.6f} and degrees of freedom of {dof_ss}.\"\"\")"
   ]
  },
  {
   "cell_type": "code",
   "execution_count": 30,
   "metadata": {},
   "outputs": [
    {
     "name": "stdout",
     "output_type": "stream",
     "text": [
      "The scipy.stats critical value12.6\n"
     ]
    }
   ],
   "source": [
    "# Caluclate critical value for a probability level of 5%\n",
    "crit_ss = stats.chi2.ppf(q=0.95, df=dof_ss)\n",
    "print(f\"The scipy.stats critical value{crit_ss:.1f}\")"
   ]
  },
  {
   "cell_type": "markdown",
   "metadata": {},
   "source": [
    "SciPy has the function scipy.stats.chi2_contingency that applies the chi-square test to a contingency table. It is fundamentally just a reqular chi-square test, but when applied to a contingency table, the expected frequencies are calculated under the assumption of independence and the degrees of freedom depends on the number of rows and columns. [14]"
   ]
  },
  {
   "cell_type": "code",
   "execution_count": 19,
   "metadata": {},
   "outputs": [
    {
     "name": "stdout",
     "output_type": "stream",
     "text": [
      "chi2 statistic:     24.571\n",
      "p-value:            0.00040984\n",
      "degrees of freedom: 6\n",
      "expected frequencies:\n",
      "[[ 80.53846154  80.53846154 107.38461538  80.53846154]\n",
      " [ 34.84615385  34.84615385  46.46153846  34.84615385]\n",
      " [ 34.61538462  34.61538462  46.15384615  34.61538462]]\n"
     ]
    }
   ],
   "source": [
    "import numpy as np\n",
    "from scipy.stats import chi2_contingency\n",
    "\n",
    "\n",
    "table = np.array([[90, 60, 104, 95],\n",
    "                  [30, 50,  51, 20],\n",
    "                  [30, 40,  45, 35]])\n",
    "\n",
    "chi2, p, dof, expected = chi2_contingency(table)\n",
    "\n",
    "print(f\"chi2 statistic:     {chi2:.5g}\")\n",
    "print(f\"p-value:            {p:.5g}\")\n",
    "print(f\"degrees of freedom: {dof}\")\n",
    "print(\"expected frequencies:\")\n",
    "print(expected)"
   ]
  },
  {
   "cell_type": "markdown",
   "metadata": {},
   "source": [
    "\n",
    "The Chi-squared value and p-value can be calculated using the scipy.stats.chi2_contingency method and the critical Chi-squared value can be calculated using the stats.chi2.ppf method. The p value is  We can reject the null hypotheses that the categories are independent of each other."
   ]
  },
  {
   "cell_type": "markdown",
   "metadata": {},
   "source": [
    "### References and Biblography for Task 2\n",
    "\n",
    "1. https://machinelearningmastery.com/chi-squared-test-for-machine-learning/\n",
    "2. https://en.wikipedia.org/wiki/Chi-squared_test\n",
    "3. Urdan, T., 2010. Statistics In Plain English. New York: Routledge.\n",
    "4. https://www.geeksforgeeks.org/different-ways-to-create-pandas-dataframe/ and\n",
    "5. https://stackoverflow.com/a/60909202\n",
    "6. https://pandas.pydata.org/pandas-docs/stable/reference/api/pandas.DataFrame.copy.html\n",
    "7. https://pandas.pydata.org/pandas-docs/stable/reference/api/pandas.DataFrame.drop.html\n",
    "8. https://www.geeksforgeeks.org/python-pandas-dataframe-sum\n",
    "9. https://medium.com/@nhan.tran/the-chi-square-statistic-p3-programming-with-python-87eb079f36af\n",
    "10.https://docs.scipy.org/doc/scipy/reference/generated/scipy.stats.chi2_contingency.html\n",
    "11.https://medium.com/@nhan.tran/the-chi-square-statistic-p3-programming-with-python-87eb079f36af\n",
    "12.https://www.python-ds.com/python-chi-square-test\n",
    "13.https://docs.scipy.org/doc/scipy-0.15.1/reference/generated/scipy.stats.chi2.html\n",
    "14. "
   ]
  },
  {
   "cell_type": "markdown",
   "metadata": {},
   "source": [
    "## Task 3 - Standard Deviation"
   ]
  },
  {
   "cell_type": "markdown",
   "metadata": {},
   "source": [
    "The standard deviation of an array of numbers x is calculated using numpy as np.sqrt(np.sum((x - np.mean(x))**2)/len(x). However, Microsoft Excel has two different versions of the standard deviation calculation, STDEV.P and STDEV.S . The STDEV.P function performs the above calculation but in the STDEV.S calculation the division is by len(x)-1 rather\n",
    "than len(x) . Research these Excel functions, writing a note in a Markdown cell about the difference between them. Then use numpy to perform a simulation demonstrating that the STDEV.S calculation is a better estimate for the standard deviation of a population when performed on a sample. Note that part of this task is to figure out the terminology in the previous sentence.\n"
   ]
  },
  {
   "cell_type": "markdown",
   "metadata": {},
   "source": [
    "### Standard Deviation\n",
    "\n",
    "\"The standard deviation is a measure of the spread of scores within a set of data. Usually, we are interested in the standard deviation of a population. However, as we are often presented with data from a sample only, we can estimate the population standard deviation from a sample standard deviation. These two standard deviations - sample and population standard deviations - are calculated differently.\" [1]  deviation tells you how spread out the data is. It is a measure of how far each observed value is from the mean. In any distribution, about 95% of values will be within 2 standard deviations of the mean.[2]\n",
    "\n",
    "\n",
    "![image](https://raw.githubusercontent.com/NiamhOL/Machine-Learning-and-Statistics-2020-Tasks/main/images/Std.PNG) \n",
    "\n",
    "\n",
    "Generally we are more interested in the population standard deciation as our population contains all the values we are interested in. However, in statistics, we are often only presented with a sample of the population and therefore have to estimate or generalise a population. In this case, were we wish to make a statement about the population standard deviation from which a sample is drawn, we use the sample standard deviation. The standard deviation is used in conjunction with the mean to summarise continuous data, not categorical data. In addition, the standard deviation, like the mean, is normally only appropriate when the continuous data is not significantly skewed or has outliers.\n",
    "\n",
    "The population standard deviation formula i;\n",
    "\n",
    "\n",
    "$$ SD=\\sqrt{\\dfrac{\\sum \\left( x_{i}-\\mu \\right) ^{2}}{N}}$$\n",
    "        \n",
    "The sample standard deviation formula is;\n",
    "\n",
    "$$ S_{x}=\\sqrt{\\dfrac{\\sum \\left( x_{i}-x\\right) ^{2}}{n-1}} $$\n",
    "\n",
    "The steps in calculating the standard deviation are as follows:\n",
    "\n",
    "1. For each value, find its distance to the mean\n",
    "2. For each value, find the square of this distance\n",
    "3. Find the sum of these squared values\n",
    "4. Divide the sum by the number of values in the data set\n",
    "5. Find the square root of this"
   ]
  },
  {
   "cell_type": "markdown",
   "metadata": {},
   "source": [
    "### Microsoft Excel STDEV.P function\n",
    "\n",
    "The STDEV.P function calculates the standard deviation for a sample set of data. Standard deviation is a measure of how much variance there is in a set of numbers compared to the average (mean) of the numbers. The STDEV. P function is meant to estimate standard deviation for an entire population [3]\n",
    "\n",
    "![image](https://raw.githubusercontent.com/NiamhOL/Machine-Learning-and-Statistics-2020-Tasks/main/images/STDEV.P%20excel.PNG) \n",
    "\n",
    "STDEV.P function assumes that the column refers to the entire population. If your data represents a sample of the population, then use STDEV.S function.\n",
    "\n",
    "STDEV.P uses the following formula −\n",
    "\n",
    "$$\\sqrt{\\sum\\frac{(x\\:-\\:\\bar{x})^{2}}{N}}$$\n",
    "\n",
    "Where, $\\bar{x}$ the average value of $x$ for the entire population, and\n",
    "\n",
    "N is the population size\n",
    "\n",
    "Blank rows are filtered out from columnName and not considered in the calculation.\n",
    "\n",
    "An error is returned if columnName contains less than 2 non-blank rows. [5]\n"
   ]
  },
  {
   "cell_type": "markdown",
   "metadata": {},
   "source": [
    "### Microsoft Excel STDEV.S function\n",
    "\n",
    "STDEV.S is a Statistical function that calculates and returns the standard deviation for a sample of data. The standard deviation is a measure of how widely values are dispersed from the average value (the mean). The STDEV. S calculates standard deviation using the “n-1” method.[6}\n",
    "\n",
    "![image](https://raw.githubusercontent.com/NiamhOL/Machine-Learning-and-Statistics-2020-Tasks/main/images/STDEV.S%20excel.PNG) \n",
    "\n",
    "-STDEV.S calculates standard deviation using the \"n-1\" method.\n",
    "-STDEV.S assumes data is a sample only. When data represents an  entire population, use the STDEV.P function.\n",
    "-Numbers are supplied as arguments. They can be supplied as actual numbers, ranges, arrays, or references that contain numbers.\n",
    "-STDEV.S ignores empty cells, logical values, and text that appears in supplied reference(s).\n",
    "-STDEV.S will evaluate text and logical values hardcoded as function arguments."
   ]
  },
  {
   "cell_type": "markdown",
   "metadata": {},
   "source": [
    "### Difference between STDEV.P and STDEV.S\n",
    "\n",
    "What are the difference in STDEV.P and STDEV.S function?\n",
    "\n",
    "The STDEV.P function is used when your data represents the entire population.\n",
    "The STDEV.S function is used when your data is a sample of the entire population.\n",
    "\n",
    "In STDEV.P function, the squared deviation is divided by the total number of arguments, mostly represented as N.\n",
    "In STDEV.S or STDEV, the squared deviation is divided by the total number of sample -1. It is represented as N-1.\n",
    "\n",
    "Since STDEV.P function considers entire data, and some factors may dominate the result standard deviation. And since it will be taken as the standard deviation for everyone in data, even for minorities, this is called Biased Analysis. This is why this standard deviation is recommended to use only when an analysis is non-destructive.\n",
    "The STDEV.S or STDEV function is used on a small sample of the entire population, and we subtract one from the denominator (number of samples arguments). This is called non-biassed analysis of standard deviation. This is used when an analysis is destructive.[5] \n",
    "\n"
   ]
  },
  {
   "cell_type": "markdown",
   "metadata": {},
   "source": [
    "### Standard Deviation in numpy\n",
    "\n"
   ]
  },
  {
   "cell_type": "markdown",
   "metadata": {},
   "source": [
    "The numpy module of Python provides a function called numpy.std(), used to compute the standard deviation along the specified axis. This function returns the standard deviation of the array elements. The square root of the average square deviation (computed from the mean), is known as the standard deviation. By default, the standard deviation is calculated for the flattened array. With the help of the x.sum()/N, the average square deviation is normally calculated, and here, N=len(x).[8]\n",
    "\n",
    "```Standard Deviation=sqrt(mean(abs(x-x.mean( ))**2 ```\n",
    "\n",
    "This parameter defines the source array whose elements standard deviation is calculated.\n",
    "\n",
    "axis: None, int, or tuple of ints(optional)\n",
    "\n",
    "It is the axis along which the standard deviation is calculated. The standard deviation of the flattened array is computed by default. If it is a tuple of ints, performs standard deviation over multiple axis instead of a single axis or all axis as before.\n",
    "\n",
    "dtype : data_type(optional)\n",
    "\n",
    "This parameter defines the data type, which is used in computing the standard deviation. By default, the data type is float64 for integer type arrays, and, for float types array, it will be the same as the array type.\n",
    "\n",
    "out : ndarray(optional)\n",
    "\n",
    "This parameter defines the alternative output array in which the result is to be placed. This alternative ndarray has the same shape as the expected output. But we cast the type when necessary.\n",
    "\n",
    "ddof : int(optional)\n",
    "\n",
    "This parameter defines the Delta Degrees of Freedom. The N-ddof divisor is used in calculations, where N is the number of elements. By default, the value of this parameter is set to 0.\n",
    "\n",
    "keepdims : bool(optional)\n",
    "\n",
    "It is optional, whose value, when true, will leave the reduced axis as dimensions with size one in the resultant. When it passes the default value, it will allow the non-default values to pass via the mean method of sub-classes of ndarray, but the keepdims will not pass. Also, the output or the result will broadcast against the input array correctly."
   ]
  },
  {
   "cell_type": "code",
   "execution_count": 3,
   "metadata": {},
   "outputs": [],
   "source": [
    "import numpy as np"
   ]
  },
  {
   "cell_type": "code",
   "execution_count": 5,
   "metadata": {},
   "outputs": [
    {
     "data": {
      "text/plain": [
       "3.391164991562634"
      ]
     },
     "execution_count": 5,
     "metadata": {},
     "output_type": "execute_result"
    }
   ],
   "source": [
    "a=np.array([[1,4,7,10],[2,5,8,11]])  \n",
    "b=np.std(a)  \n",
    "b  "
   ]
  },
  {
   "cell_type": "markdown",
   "metadata": {},
   "source": [
    "The code above\n",
    "\n",
    "-imported numpy with alias name np.\n",
    "-created an array 'a' via array() function.\n",
    "-declared the variable 'b' and assigned the returned value of std() function.\n",
    "-passed the array 'a' in the function\n",
    "-tried to print the value of 'b'."
   ]
  },
  {
   "cell_type": "code",
   "execution_count": 6,
   "metadata": {},
   "outputs": [
    {
     "data": {
      "text/plain": [
       "0.45000008"
      ]
     },
     "execution_count": 6,
     "metadata": {},
     "output_type": "execute_result"
    }
   ],
   "source": [
    "import numpy as np  \n",
    "a = np.zeros((2, 512*512), dtype=np.float32)  \n",
    "a[1, :] = 1.0  \n",
    "a[0, :] = 0.1  \n",
    "b=np.std(a)  \n",
    "b  "
   ]
  },
  {
   "cell_type": "markdown",
   "metadata": {},
   "source": [
    "The code above\n",
    "\n",
    "-imported numpy with alias name np.\n",
    "-created an array 'a' using np.zeros() function with data type np.float32.\n",
    "-assigned the value 0.1 to the elements of the 1st row and 1.0 to the elements of the second row.\n",
    "-passed the array 'a' in the function\n",
    "-we tried to print the value of 'b'."
   ]
  },
  {
   "cell_type": "code",
   "execution_count": 4,
   "metadata": {},
   "outputs": [
    {
     "data": {
      "text/plain": [
       "3.0607876523260447"
      ]
     },
     "execution_count": 4,
     "metadata": {},
     "output_type": "execute_result"
    }
   ],
   "source": [
    "np.sqrt(np.sum((x - np.mean(x))**2)/(len(x)-1))\n"
   ]
  },
  {
   "cell_type": "markdown",
   "metadata": {},
   "source": [
    "The standard deviation is the square root of the average of the squared deviations from the mean, i.e., std = sqrt(mean(abs(x - x.mean())**2)).\n",
    "\n",
    "\"The average squared deviation is normally calculated as x.sum() / N, where N = len(x). If, however, ddof is specified, the divisor N - ddof is used instead. In standard statistical practice, ddof=1 provides an unbiased estimator of the variance of the infinite population. ddof=0 provides a maximum likelihood estimate of the variance for normally distributed variables. The standard deviation computed in this function is the square root of the estimated variance, so even with ddof=1, it will not be an unbiased estimate of the standard deviation.\" [7]"
   ]
  },
  {
   "cell_type": "code",
   "execution_count": 5,
   "metadata": {},
   "outputs": [
    {
     "data": {
      "text/plain": [
       "3.0607876523260447"
      ]
     },
     "execution_count": 5,
     "metadata": {},
     "output_type": "execute_result"
    }
   ],
   "source": [
    "import statistics\n",
    "statistics.stdev(x)"
   ]
  },
  {
   "cell_type": "code",
   "execution_count": 4,
   "metadata": {},
   "outputs": [
    {
     "name": "stdout",
     "output_type": "stream",
     "text": [
      "[0 1 2 3 4 5]\n",
      "\n",
      "Mean:  2.5\n",
      "\n",
      "std:  1\n",
      "\n",
      "variance:  2.9166666666666665\n"
     ]
    }
   ],
   "source": [
    "x = np.arange(6)\n",
    "print(x)\n",
    "r1 = np.mean(x)\n",
    "r2 = np.average(x)\n",
    "assert np.allclose(r1, r2)\n",
    "print(\"\\nMean: \", r1)\n",
    "r1 = np.std(x)\n",
    "r2 = np.sqrt(np.mean((x - np.mean(x)) ** 2 ))\n",
    "assert np.allclose(r1, r2)\n",
    "print(\"\\nstd: \", 1)\n",
    "r1= np.var(x)\n",
    "r2 = np.mean((x - np.mean(x)) ** 2 )\n",
    "assert np.allclose(r1, r2)\n",
    "print(\"\\nvariance: \", r1)"
   ]
  },
  {
   "cell_type": "code",
   "execution_count": 9,
   "metadata": {},
   "outputs": [],
   "source": [
    "import statistics\n",
    "import numpy\n"
   ]
  },
  {
   "cell_type": "code",
   "execution_count": 10,
   "metadata": {},
   "outputs": [
    {
     "name": "stdout",
     "output_type": "stream",
     "text": [
      "9.636336148089395\n",
      "9.258292301032677\n"
     ]
    }
   ],
   "source": [
    "speed = [99,86,87,88,111,86,103,87,94,78,77,85,86]\n",
    "print(statistics.stdev(speed))\n",
    "print(numpy.std(speed))"
   ]
  },
  {
   "cell_type": "markdown",
   "metadata": {},
   "source": [
    "### STDEV.S and STDEV.P using numpy\n",
    "\n",
    "Numpy uses population standard deviation by default, which is similar to pstdev of statistics module. To calculate sample standard deviation, use an additional parameter, called ddof and set it to 1. By default ddof is 0.\n"
   ]
  },
  {
   "cell_type": "code",
   "execution_count": 12,
   "metadata": {},
   "outputs": [
    {
     "data": {
      "text/plain": [
       "2.9832867780352594"
      ]
     },
     "execution_count": 12,
     "metadata": {},
     "output_type": "execute_result"
    }
   ],
   "source": [
    "np.std([9,2,5,4,12,7,8,11,9,3,7,4,12,5,4,10,9,6,9,4])\n"
   ]
  },
  {
   "cell_type": "code",
   "execution_count": 11,
   "metadata": {},
   "outputs": [
    {
     "data": {
      "text/plain": [
       "3.0607876523260447"
      ]
     },
     "execution_count": 11,
     "metadata": {},
     "output_type": "execute_result"
    }
   ],
   "source": [
    "x = ([9,2,5,4,12,7,8,11,9,3,7,4,12,5,4,10,9,6,9,4])\n",
    "np.array(x).std(ddof=1)"
   ]
  },
  {
   "cell_type": "markdown",
   "metadata": {},
   "source": [
    "### Standard Deviation numpy v Excel"
   ]
  },
  {
   "cell_type": "markdown",
   "metadata": {},
   "source": [
    "There is difference: Excel's STDEV calculates the sample standard deviation, while NumPy's std calculates the population standard deviation by default (it is behaving like Excel's STDEVP ). This calculates the standard deviation of s using the sample variance (i.e. dividing by n-1 rather than n .)[8] \n",
    "\n",
    "Excel's STDEV calculates the sample standard deviation, while NumPy's std calculates the population standard deviation by default (it is behaving like Excel's STDEVP).\n",
    "\n",
    "To make NumPy's std function behave like Excel's STDEV, pass in the value ddof=1:"
   ]
  },
  {
   "cell_type": "markdown",
   "metadata": {},
   "source": [
    "### References and Biblography for Task 3\n",
    "\n",
    "1. https://statistics.laerd.com/statistical-guides/measures-of-spread-standard-deviation.php\n",
    "2. https://www.khanacademy.org/math/probability/data-distributions-a1/summarizing-spread-distributions/a/calculating-standard-deviation-step-by-step\n",
    "3. https://exceljet.net/excel-functions/excel-stdev.p-function#:~:text=The%20STDEV.,deviation%20for%20an%20entire%20population\n",
    "4. https://www.exceltip.com/statistical-formulas/how-to-use-excel-stdev-p-function.html\n",
    "5. https://www.tutorialspoint.com/dax_functions/dax_stdevp_function.htm\n",
    "6. https://www.spreadsheetweb.com/excel-stdev-s-function/#:~:text=S%20(STDEV%20S)%20is%20a,%E2%80%9Cn%2D1%E2%80%9D%20method\n",
    "7. https://numpy.org/doc/stable/reference/generated/numpy.std.html\n",
    "8. https://www.javatpoint.com/numpy-std"
   ]
  },
  {
   "cell_type": "markdown",
   "metadata": {},
   "source": [
    "## Task 4"
   ]
  },
  {
   "cell_type": "markdown",
   "metadata": {},
   "source": [
    "Use scikit-learn to apply k-means clustering to Fisher’s famous Iris data set. You will easily obtain a copy of the data set online. Explain in a Markdown cell how your code works and how accurate it might\n",
    "be, and then explain how your model could be used to make predictions of species\n",
    "of iris"
   ]
  }
 ],
 "metadata": {
  "kernelspec": {
   "display_name": "Python 3",
   "language": "python",
   "name": "python3"
  },
  "language_info": {
   "codemirror_mode": {
    "name": "ipython",
    "version": 3
   },
   "file_extension": ".py",
   "mimetype": "text/x-python",
   "name": "python",
   "nbconvert_exporter": "python",
   "pygments_lexer": "ipython3",
   "version": "3.8.3"
  }
 },
 "nbformat": 4,
 "nbformat_minor": 4
}
