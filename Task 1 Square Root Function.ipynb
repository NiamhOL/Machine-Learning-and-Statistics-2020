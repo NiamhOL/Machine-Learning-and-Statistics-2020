{
 "cells": [
  {
   "cell_type": "markdown",
   "metadata": {},
   "source": [
    "# Machine Learning and Statistics - Task 1\n"
   ]
  },
  {
   "cell_type": "markdown",
   "metadata": {},
   "source": [
    "## Introduction \n",
    "\n",
    "This assignment demonstrates how to create a Python function called  $sqrt2$  that calculates and prints to the screen the square root of 2 to 100 decimal places. This code cannot depend on any of the modules available in the standard library. \n"
   ]
  },
  {
   "cell_type": "markdown",
   "metadata": {},
   "source": [
    "## Research \n",
    "\n",
    "\"The early Pythagoreans were convinced that every conceivable number could in principle be written in fractional form, as the ratio of two natural numbers. Since there is an infinite supply of natural numbers, they thought, there must be enough to do the job. The discovery that this was an erroneous belief, possibly by the geometer Hippasus in the 5th century BCE, was shocking news. According to legend, Hippasus was hurled off a boat and drowned to prevent the truth becoming widely known, such was its threat to the Pythagorean concept of order in the Universe!.\" [1] \n",
    "\n",
    "Numbers that cannot be expressed as a ratio of natural numbers are called irrational numbers, even though they make perfect sense to modern mathematicians. It is actually easy to see why some numbers are irrational. A famous example is the square root of 2, which is roughly 1.4142, and denoted √2. \n",
    "\n",
    "Before one can attempt to write Python code for ...sqrt2..., it is important to gain a better understanding of an effecient method of calculation. \"Newton’s method also known as Newton-Raphson method is a root-finding algorithm that produces successively better approximations of the roots of a real-valued function.\" [2]\n",
    "\n",
    "The approximations of the root go as:\n",
    "\n",
    "$$ x_(n+1) = x_n - f(x_n) / f’(x_n) $$\n",
    "$$ x_0 $$  is the rough approximation of the root done at the first and the successive approximations go as  $$ x_1, x_2,...$$ \n",
    "$$ f(x_n) $$ is the function whose root is to be determined and $$ f’(x_n) $$ is the derivative of the function.\n",
    "\n",
    "\"Newton's Method is used to find successive approximations to the roots of a function. If the function is y = f(x) and x0 is close to a root, then we usually expect the formula below to give x1 as a better approximation. Then you plug the x1 back in as x0 and iterate\" (2)\n",
    "\n",
    "Newton's Method for square root goes as follows;(4) If we have to find the square root of a number n, the function would be $$ f(x) = x² - N $$ and we would have to find the root of the function,  $$ f(x) $$\n",
    "\n",
    "Here, the value $$ f(x_n) at x = x_n $$ is $$ f(x_n) = x_n² - N $$\n",
    "\n",
    "And, the derivative at the point is $$ f’(x_n) = 2 * x_n $$\n",
    "\n",
    "Now, the better approximation can be found using [1]\n",
    "\n",
    "$$ x_(n+1) = x_n - (x_n² - N) / (2 * x_n) $$\n",
    "$$ x_(n+1) = x_n - x_n² / (2 * x_n) + N/ (2 * x_n) $$\n",
    "$$ x_(n+1) = x_n - x_n / 2+ N/ (2 * x_n) $$\n",
    "$$ x_(n+1) = x_n / 2+ N/ (2 * x_n) $$\n",
    "$$ x_(n+1) = (x_n + N/ x_n) / 2 $$\n",
    "\n",
    "\n",
    "Integer square root of a number is the floor of the square root. The algorithm can be modified a little to find integer square root of a number. The while condition here would be approximate * approximate > N. The algorithm terminates when the approximate squared is less than or equal to N.\n",
    "The iteration relation here is:\n",
    "\n",
    "$$ x_(n+1) = (x_n + N // x_n) // 2 $$ where // is integer division [4]\n",
    "\n",
    "A classic analysis text (Rudin, Principles of Mathematical Analysis) approaches the proof of convergence of this algorithm as follows: we prove that the sequence converges monotonically and is bounded, and hence it has a limit; we then easily see that the limit is √ [5]\n",
    "\n",
    "This method can be applied to the calculating the square root of 2. If we start with x_1=1 \n",
    "\n",
    "The number of accurate digits approximately doubles on each iteration. This is a very efficient concergence rate.\n",
    "\n",
    "![image](https://raw.githubusercontent.com/NiamhOL/Machine-Learning-and-Statistics-2020-Assignments/main/images/Newton.PNG) \n",
    "\n",
    "### AdvantagesDisadvantages of Newton's Method\n",
    "\n",
    "When it converges, Newton's method usually converges very quickly and this is its main advantage. However, Newton's method is not guaranteed to converge and this is obviously a big disadvantage especially compared to the bisection and secant methods which are guaranteed to converge to a solution (provided they start with an interval containing a root).\n",
    "\n",
    "Newton's method also requires computing values of the derivative of the function in question. This is potentially a disadvantage if the derivative is difficult to compute. \n",
    "\n",
    "The stopping criteria for Newton's method differs from the bisection and secant methods. In those methods, we know how close we are to a solution because we are computing intervals which contain a solution. In Newton's method, we don't know how close we are to a solution. All we can compute is the value  and so we implement a stopping criteria based on.\"[3]\n"
   ]
  },
  {
   "cell_type": "markdown",
   "metadata": {},
   "source": [
    "\n",
    "## Square Root 2 in Python \n",
    "\n",
    "Loops are often used in programs that compute numerical results by starting with an approximate answer and iteratively improving it. Suppose that you want to know the square root of n. If you start with almost any approximation, you can compute a better approximation with the following formula:\n",
    "\n",
    "\n",
    "The following implementation of Newton’s method requires two parameters. The first is the value whose square root will be approximated. The second is the number of times to iterate the calculation yielding a better result [7]"
   ]
  },
  {
   "cell_type": "code",
   "execution_count": 8,
   "metadata": {},
   "outputs": [
    {
     "name": "stdout",
     "output_type": "stream",
     "text": [
      "1.414213562373095\n"
     ]
    }
   ],
   "source": [
    "def newton_method(number, number_iters = 500):    # https://medium.com/@sddkal/newton-square-root-method-in-python-270853e9185d\n",
    "    a = float(number) # number to get square root of\n",
    "    for i in range(number_iters): # iteration number\n",
    "        number = 0.5 * (number + a / number) # update\n",
    " # x_(n+1) = 0.5 * (x_n +a / x_n)\n",
    "    return number\n",
    "\n",
    "print (newton_method(2))"
   ]
  },
  {
   "cell_type": "code",
   "execution_count": 3,
   "metadata": {},
   "outputs": [
    {
     "name": "stdout",
     "output_type": "stream",
     "text": [
      "1.4142135623730950488016887242096980785696718753769480731766797379907324784621070388503875343276415727\n"
     ]
    }
   ],
   "source": [
    "x = 2 * 10 ** 200  \n",
    "r = x\n",
    "\n",
    "def sqrt2(x, r):\n",
    "    d0 = abs(x - r**2)\n",
    "    dm = abs(x - (r-1)**2)\n",
    "    dp = abs(x - (r+1)**2)\n",
    "    minimised = d0 <= dm and d0 <= dp\n",
    "    below_min = dp < dm\n",
    "    return minimised, below_min\n",
    "\n",
    "while True:\n",
    "    oldr = r\n",
    "    r = (r + x // r) // 2\n",
    "\n",
    "    minimised, below_min = sqrt2(x, r)\n",
    "    if minimised:\n",
    "        break\n",
    "\n",
    "    if r == oldr:\n",
    "        if below_min:\n",
    "            r += 1\n",
    "        else:\n",
    "            r -= 1\n",
    "        minimised, _ = sqrt2(x, r)\n",
    "        if minimised:\n",
    "            break\n",
    "\n",
    "print(f'{r // 10**100}.{r % 10**100:0100d}') # [8]"
   ]
  },
  {
   "cell_type": "markdown",
   "metadata": {},
   "source": [
    "\"Newton’s algorithm will eventually reach a point where the new approximation is no better than the previous. At that point, we could simply stop. In other words, by repeatedly applying this formula until the better approximation gets close enough to the previous one, we can write a function for computing the square root that uses the number of iterations necessary and no more.\n",
    "\n",
    "This implementation, shown in codelens, uses a while condition to execute until the approximation is no longer changing. Each time through the loop we compute a “better” approximation using the formula described earlier. As long as the “better” is different, we try again. Step through the program and watch the approximations get closer and closer.\" [7]"
   ]
  },
  {
   "cell_type": "markdown",
   "metadata": {},
   "source": [
    "## Validating the above method"
   ]
  },
  {
   "cell_type": "code",
   "execution_count": 7,
   "metadata": {},
   "outputs": [
    {
     "data": {
      "text/plain": [
       "Decimal('1.4142135623730950488016887242096980785696718753769480731766797379907324784621070388503875343276415727')"
      ]
     },
     "execution_count": 7,
     "metadata": {},
     "output_type": "execute_result"
    }
   ],
   "source": [
    "from decimal import *\n",
    "getcontext().prec = 101 # Can try other numbers here\n",
    "Decimal(2).sqrt()"
   ]
  },
  {
   "cell_type": "code",
   "execution_count": null,
   "metadata": {},
   "outputs": [],
   "source": [
    "# https://apod.nasa.gov/htmltest/gifcity/sqrt2.1mil [10]\n",
    "sqrt2byNasa = \"1.4142135623730950488016887242096980785696718753769480731766797379907324784621070388503875343276415727\"\n",
    "# check I have 100 decimal places places/ 101 significant places.\n",
    "import re\n",
    "# verify 100 decimal places\n",
    "print(\"number of significant digits\",len(str(sqrt2byNasa)[1:]))\n"
   ]
  },
  {
   "cell_type": "markdown",
   "metadata": {},
   "source": [
    "## Conclusions \n",
    "\n",
    "The algorithm for Newton’s method for numerically approximating a root of a function can be summarised as follows:\n",
    "\n",
    "* Given a function $$ f(x) $$ of a variable x and a way to compute both $$ f(xi) $$ and its derivative $$ f′(xi)$$ at a given point $$ xi.$$\n",
    "* Set values for the desired numerical relative precision Δd of the result as well as for the maximum number of iterations N the algorithm is allowed to take.\n",
    "* Choose an initial guess $$ x0 $$, ideally close to the location of the root to be approximated.\n",
    "* Compute the next approximation x1 for the root as\n",
    "$$ x1=x0–f(x0)f′(x0) $$\n",
    "* Repeat as $$ xi+1=xi–f(xi)f′(xi)$$ and compute the relative difference between the approximations as\n",
    "$$ Δ=|xi+1−xi||xi|=|f(xi)||f′(xi)xi| $$ until one of two things happens:\n",
    "1. the maximum number of allowed iterations is reached, i.e., $$ i>N $$\n",
    "2. the desired numerical relative precision is reached, i.e., $$ Δ<Δd $$\n",
    "\n",
    "If the algorithm reaches the maximum number of iterations that you set, this can but does not have to indicate that convergence is not possible. Experimentation with suitable values for both Δd and N may be needed to arrive at a satisfactory result. [9] "
   ]
  },
  {
   "cell_type": "markdown",
   "metadata": {},
   "source": [
    "## References\n",
    "\n",
    "1. https://cosmosmagazine.com/mathematics/the-square-root-of-2/\n",
    "\n",
    "2. https://hackernoon.com/calculating-the-square-root-of-a-number-using-the-newton-raphson-method-a-how-to-guide-yr4e32zo\n",
    "\n",
    "3. http://www.cs.utsa.edu/~wagner/CS3343/newton/sqrt.html\n",
    "\n",
    "4. https://www.math.ubc.ca/~pwalls/math-python/roots-optimization/newton/\n",
    "\n",
    "5. https://medium.com/@surajregmi/how-to-calculate-the-square-root-of-a-number-newton-raphson-method-f8007714f64\n",
    "\n",
    "6. https://math.mit.edu/~stevenj/18.335/newton-sqrt.pdf\n",
    "\n",
    "7. https://runestone.academy/runestone/books/published/thinkcspy/MoreAboutIteration/NewtonsMethod.html\n",
    "\n",
    "8. https://stackoverflow.com/questions/64278117/is-there-a-way-to-create-more-decimal-points-on-python-without-importing-a-libra\n",
    " \n",
    "9. https://computingskillset.com/solving-equations/the-newton-raphson-method-explained-details-pictures-python-code/\n",
    "\n",
    " \n",
    " \n"
   ]
  }
 ],
 "metadata": {
  "kernelspec": {
   "display_name": "Python 3",
   "language": "python",
   "name": "python3"
  },
  "language_info": {
   "codemirror_mode": {
    "name": "ipython",
    "version": 3
   },
   "file_extension": ".py",
   "mimetype": "text/x-python",
   "name": "python",
   "nbconvert_exporter": "python",
   "pygments_lexer": "ipython3",
   "version": "3.8.3"
  }
 },
 "nbformat": 4,
 "nbformat_minor": 4
}
