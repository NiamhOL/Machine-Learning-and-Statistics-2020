{
 "cells": [
  {
   "cell_type": "markdown",
   "metadata": {},
   "source": [
    "# Machine Learning and Statistics - Task 1\n"
   ]
  },
  {
   "cell_type": "markdown",
   "metadata": {},
   "source": [
    "## Introduction \n",
    "\n",
    "This assignment demonstrates how to create a Python function called  $sqrt2$  that calculates and prints to the screen the square root of 2 to 100 decimal places. This code cannot depend on any of the modules available in the standard library. \n"
   ]
  },
  {
   "cell_type": "markdown",
   "metadata": {},
   "source": [
    "## Research \n",
    "\n",
    "Before one can attempt to write Python code for ...sqrt2..., it is important to gain a better understanding of different methods of calculation. \"Newton’s method, also known as Newton-Raphson method is a root-finding algorithm that produces successively better approximations of the roots of a real-valued function.\" (1)\n",
    "\n",
    "The approximations of the root go as:\n",
    "\n",
    "$$ x_(n+1) = x_n - f(x_n) / f’(x_n)$$\n",
    "x_0  is the rough approximation of the root done at the first and the successive approximations go as  x_1, x_2,... . $$f(x_n)$$ is the function whose root is to be determined and $$f’(x_n)$$ is the derivative of the function.\n",
    "\n",
    "\"Newton's Method is used to find successive approximations to the roots of a function. If the function is y = f(x) and x0 is close to a root, then we usually expect the formula below to give x1 as a better approximation. Then you plug the x1 back in as x0 and iterate\" (2)\n",
    "\n",
    "Newton's Method for square root goes as follows;(4) If we have to find the square root of a number n, the function would be $$f(x) = x² - N$$ and we would have to find the root of the function,  $$f(x)$$\n",
    "\n",
    "Here, the value $$f(x_n) at x = x_n$$ is:\n",
    "\n",
    "$$f(x_n) = x_n² - N$$\n",
    "\n",
    "And, the derivative at the point is:\n",
    "$$f’(x_n) = 2 * x_n$$\n",
    "\n",
    "Now, the better approximation can be found using (1).\n",
    "\n",
    "$$x_(n+1) = x_n - (x_n² - N) / (2 * x_n)$$\n",
    "$$x_(n+1) = x_n - x_n² / (2 * x_n) + N/ (2 * x_n)$$\n",
    "$$x_(n+1) = x_n - x_n / 2+ N/ (2 * x_n)$$\n",
    "$$x_(n+1) = x_n / 2+ N/ (2 * x_n)$$\n",
    "$$x_(n+1) = (x_n + N/ x_n) / 2$$\n",
    "\n",
    "\n",
    "Integer square root of a number is the floor of the square root. The algorithm can be modified a little to find integer square root of a number. The while condition here would be approximate * approximate > N. The algorithm terminates when the approximate squared is less than or equal to N.\n",
    "The iteration relation here is:\n",
    "\n",
    "$$ x_(n+1) = (x_n + N // x_n) // 2 $$\n",
    "where // is integer division (4)\n",
    "\n",
    "A classic analysis text (Rudin, Principles of Mathematical Analysis) approaches the proof of convergence of this algorithm as follows: we prove that the sequence converges monotonically and is\n",
    "bounded, and hence it has a limit; we then easily see that the limit is √ (5)\n",
    "\n",
    "![Image](http://raw.githubusercontent.com/NiamhOL/Machine-Learning-and-Statistics-2020-Assignments/main/Convergence.PNG)\n",
    "\n",
    "This method can be applied to the calculating the square root of 2. If we start with x_1=1 \n",
    "\n",
    "![Image](https://raw.githubusercontent.com/NiamhOL/Machine-Learning-and-Statistics-2020-Assignments/main/Convergence2.PNG)\n",
    "\n",
    "The number of accurate digits approximately doubles on eacg iteration. This is a very efficient concergence rate.\n",
    "\n",
    "### AdvantagesDisadvantages of Newton's Method\n",
    "\n",
    "When it converges, Newton's method usually converges very quickly and this is its main advantage. However, Newton's method is not guaranteed to converge and this is obviously a big disadvantage especially compared to the bisection and secant methods which are guaranteed to converge to a solution (provided they start with an interval containing a root).\n",
    "\n",
    "Newton's method also requires computing values of the derivative of the function in question. This is potentially a disadvantage if the derivative is difficult to compute. \n",
    "\n",
    "The stopping criteria for Newton's method differs from the bisection and secant methods. In those methods, we know how close we are to a solution because we are computing intervals which contain a solution. In Newton's method, we don't know how close we are to a solution. All we can compute is the value  and so we implement a stopping criteria based on.\"(3)\n"
   ]
  },
  {
   "cell_type": "markdown",
   "metadata": {},
   "source": [
    "## Square Root 2 in Python"
   ]
  },
  {
   "cell_type": "code",
   "execution_count": 2,
   "metadata": {},
   "outputs": [
    {
     "name": "stdout",
     "output_type": "stream",
     "text": [
      "1.4142135623730950488016887242096980785696718753769480731766797379907324784621070388503875343276415727\n"
     ]
    }
   ],
   "source": [
    "x = 2 * 10 ** 200  ## https://stackoverflow.com/questions/64278117/is-there-a-way-to-create-more-decimal-points-on-python-without-importing-a-libra\n",
    "\n",
    "r = x\n",
    "\n",
    "def sqrt2(x, r):\n",
    "    d0 = abs(x - r**2)\n",
    "    dm = abs(x - (r-1)**2)\n",
    "    dp = abs(x - (r+1)**2)\n",
    "    minimised = d0 <= dm and d0 <= dp\n",
    "    below_min = dp < dm\n",
    "    return minimised, below_min\n",
    "\n",
    "while True:\n",
    "    oldr = r\n",
    "    r = (r + x // r) // 2\n",
    "\n",
    "    minimised, below_min = test_diffs(x, r)\n",
    "    if minimised:\n",
    "        break\n",
    "\n",
    "    if r == oldr:\n",
    "        if below_min:\n",
    "            r += 1\n",
    "        else:\n",
    "            r -= 1\n",
    "        minimised, _ = test_diffs(x, r)\n",
    "        if minimised:\n",
    "            break\n",
    "\n",
    "print(f'{r // 10**100}.{r % 10**100:0100d}')"
   ]
  },
  {
   "cell_type": "markdown",
   "metadata": {},
   "source": [
    "Integers are natively arbitrary precision in python. You already had a good idea of finding the square root of 2*10**100, and gave an algorithm for doing so, but you are then using floating point numbers to implement that algorithm. If you use integers, then it should basically work (note that you would need 2*10**200 so that you are left with 101 digits after the square root). It will just need a little bit of tweaking for what happens as you approach the cutoff.\n",
    "\n",
    "The print formatting is to split the number of multiples of 10**100 (becomes the integer part) from the modulo remainder 10**100 (becomes the fractional part); the latter is padded with leading zeros as required (although in this case the first digit after the decimal point is a 4, so none are needed). Obviously what you can't do is convert to a float while keeping this much precision, hence converting to an appropriately formatted string for printing."
   ]
  },
  {
   "cell_type": "markdown",
   "metadata": {},
   "source": [
    "## Validating the above method"
   ]
  },
  {
   "cell_type": "code",
   "execution_count": 7,
   "metadata": {},
   "outputs": [
    {
     "data": {
      "text/plain": [
       "Decimal('1.4142135623730950488016887242096980785696718753769480731766797379907324784621070388503875343276415727')"
      ]
     },
     "execution_count": 7,
     "metadata": {},
     "output_type": "execute_result"
    }
   ],
   "source": [
    "from decimal import *\n",
    "getcontext().prec = 101 # Can try other numbers here\n",
    "Decimal(2).sqrt()"
   ]
  },
  {
   "cell_type": "code",
   "execution_count": null,
   "metadata": {},
   "outputs": [],
   "source": [
    "# https://apod.nasa.gov/htmltest/gifcity/sqrt2.1mil [10]\n",
    "sqrt2byNasa = \"1.4142135623730950488016887242096980785696718753769480731766797379907324784621070388503875343276415727\"\n",
    "# check I have 100 decimal places places/ 101 significant places.\n",
    "import re\n",
    "# verify 100 decimal places\n",
    "print(\"number of significant digits\",len(str(sqrt2byNasa)[1:]))\n"
   ]
  },
  {
   "cell_type": "markdown",
   "metadata": {},
   "source": [
    "## Conclusions "
   ]
  },
  {
   "cell_type": "markdown",
   "metadata": {},
   "source": [
    "## References\n",
    "\n",
    "1. https://hackernoon.com/calculating-the-square-root-of-a-number-using-the-newton-raphson-method-a-how-to-guide-yr4e32zo\n",
    "\n",
    "2.  http://www.cs.utsa.edu/~wagner/CS3343/newton/sqrt.html\n",
    "\n",
    "3. https://www.math.ubc.ca/~pwalls/math-python/roots-optimization/newton/\n",
    "\n",
    "4. https://medium.com/@surajregmi/how-to-calculate-the-square-root-of-a-number-newton-raphson-method-f8007714f64\n",
    "\n",
    "5. https://math.mit.edu/~stevenj/18.335/newton-sqrt.pdf\n",
    "\n",
    " https://stackoverflow.com/questions/64278117/is-there-a-way-to-create-more-decimal-points-on-python-without-importing-a-libra\n",
    " \n",
    "\n",
    " \n",
    " \n"
   ]
  }
 ],
 "metadata": {
  "kernelspec": {
   "display_name": "Python 3",
   "language": "python",
   "name": "python3"
  },
  "language_info": {
   "codemirror_mode": {
    "name": "ipython",
    "version": 3
   },
   "file_extension": ".py",
   "mimetype": "text/x-python",
   "name": "python",
   "nbconvert_exporter": "python",
   "pygments_lexer": "ipython3",
   "version": "3.8.3"
  }
 },
 "nbformat": 4,
 "nbformat_minor": 4
}
