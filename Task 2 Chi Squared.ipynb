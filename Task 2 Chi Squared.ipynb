{
 "cells": [
  {
   "cell_type": "markdown",
   "metadata": {},
   "source": [
    "## Task 2 - Chi Squared\n",
    "\n",
    "The Chi-squared test for independence is a statistical hypothesis test like a t-test. It is used to analyse whether two categorical variables are independent. The Wikipedia article gives the table below as an example,stating the Chi-squared value based on it is approximately 24.6. Use scipy.stats to verify this value and calculate the associated p value. You should include a short note with references justifying your analysis in a markdown cell.\n"
   ]
  },
  {
   "cell_type": "markdown",
   "metadata": {},
   "source": [
    "### Introduction\n",
    "\n",
    "\"The Chi-Squared test is a statistical hypothesis test that assumes (the null hypothesis) that the observed frequencies for a categorical variable match the expected frequencies for the categorical variable. The test calculates a statistic that has a chi-squared distribution, named for the Greek capital letter Chi (X) pronounced “ki” as in kite.\" [1] In the exampl used from Wikipedia, a random sample of 650 residents of a city was taken and their occupation was recorded as \"white collar\" \"blue collar\" or \"no collar\". The null hypothesis is that each person's neighbourhood of residence is independent of the person's occupation classification.\n",
    "\n",
    "\n",
    "![Image](https://github.com/NiamhOL/Machine-Learning-and-Statistics-2020-Assignments/blob/main/ChiSq.JPG)\n",
    "\n",
    "\n",
    "Under the hypotjesis we should \"expect\" the number of \"white collar\" workds in neighbourhood A to be;\n",
    "![Image](https://github.com/NiamhOL/Machine-Learning-and-Statistics-2020-Assignments/commit/07b0f7268eda4bcd09c95f93c1d64565338c975e)\n",
    "\n",
    "In that \"cell\" of the table we have\n",
    "\n",
    "![Image](https://github.com/NiamhOL/Machine-Learning-and-Statistics-2020-Assignments/blob/main/chistep2.JPG)\n",
    "\n",
    "The sum of these quantities over all of the cells is the test statistic; in this case, {\\displaystyle \\approx 24.6}{\\displaystyle \\approx 24.6}. Under the null hypothesis, this sum has approximately a chi-squared distribution whose number of degrees of freedom are\n",
    "\n",
    "![Image](https://github.com/NiamhOL/Machine-Learning-and-Statistics-2020-Assignments/blob/main/chistep3.JPG) \n",
    "\n",
    "If the test statistic is improbably large according to that chi-squared distribution, then one rejects the null hypothesis of independence.[2]"
   ]
  },
  {
   "cell_type": "markdown",
   "metadata": {},
   "source": [
    "### "
   ]
  },
  {
   "cell_type": "code",
   "execution_count": 1,
   "metadata": {},
   "outputs": [
    {
     "name": "stdout",
     "output_type": "stream",
     "text": [
      "Data Table\n"
     ]
    },
    {
     "data": {
      "text/html": [
       "<div>\n",
       "<style scoped>\n",
       "    .dataframe tbody tr th:only-of-type {\n",
       "        vertical-align: middle;\n",
       "    }\n",
       "\n",
       "    .dataframe tbody tr th {\n",
       "        vertical-align: top;\n",
       "    }\n",
       "\n",
       "    .dataframe thead th {\n",
       "        text-align: right;\n",
       "    }\n",
       "</style>\n",
       "<table border=\"1\" class=\"dataframe\">\n",
       "  <thead>\n",
       "    <tr style=\"text-align: right;\">\n",
       "      <th></th>\n",
       "      <th>A</th>\n",
       "      <th>B</th>\n",
       "      <th>C</th>\n",
       "      <th>D</th>\n",
       "      <th>Total</th>\n",
       "    </tr>\n",
       "  </thead>\n",
       "  <tbody>\n",
       "    <tr>\n",
       "      <th>White collar</th>\n",
       "      <td>90</td>\n",
       "      <td>60</td>\n",
       "      <td>104</td>\n",
       "      <td>95</td>\n",
       "      <td>349</td>\n",
       "    </tr>\n",
       "    <tr>\n",
       "      <th>Blue collar</th>\n",
       "      <td>30</td>\n",
       "      <td>50</td>\n",
       "      <td>51</td>\n",
       "      <td>20</td>\n",
       "      <td>151</td>\n",
       "    </tr>\n",
       "    <tr>\n",
       "      <th>No Collar</th>\n",
       "      <td>30</td>\n",
       "      <td>40</td>\n",
       "      <td>45</td>\n",
       "      <td>35</td>\n",
       "      <td>150</td>\n",
       "    </tr>\n",
       "    <tr>\n",
       "      <th>Total</th>\n",
       "      <td>150</td>\n",
       "      <td>150</td>\n",
       "      <td>200</td>\n",
       "      <td>150</td>\n",
       "      <td>650</td>\n",
       "    </tr>\n",
       "  </tbody>\n",
       "</table>\n",
       "</div>"
      ],
      "text/plain": [
       "                A    B    C    D  Total\n",
       "White collar   90   60  104   95    349\n",
       "Blue collar    30   50   51   20    151\n",
       "No Collar      30   40   45   35    150\n",
       "Total         150  150  200  150    650"
      ]
     },
     "execution_count": 1,
     "metadata": {},
     "output_type": "execute_result"
    }
   ],
   "source": [
    "# Import module for storing datafram\n",
    "import pandas as pd # for dataframe work\n",
    "import scipy.stats as stats # for calculate chi-square value\n",
    "\n",
    "# Create df with table data. Code adapted from\n",
    "# https://www.geeksforgeeks.org/different-ways-to-create-pandas-dataframe/ and\n",
    "# https://stackoverflow.com/a/60909202\n",
    "data = {'A':[90, 30, 30, 150], 'B':[60, 50, 40, 150], 'C':[104, 51, 45, 200],\n",
    "        'D':[95, 20, 35, 150], 'Total':[349, 151, 150, 650]}\n",
    "df = pd.DataFrame(data,index=['White collar', 'Blue collar', 'No Collar', 'Total'])\n",
    "\n",
    "# Display the Observed results dataframe table\n",
    "print(\"Data Table\")\n",
    "df"
   ]
  },
  {
   "cell_type": "code",
   "execution_count": 2,
   "metadata": {},
   "outputs": [
    {
     "name": "stdout",
     "output_type": "stream",
     "text": [
      "Observed Results Table\n"
     ]
    },
    {
     "data": {
      "text/html": [
       "<div>\n",
       "<style scoped>\n",
       "    .dataframe tbody tr th:only-of-type {\n",
       "        vertical-align: middle;\n",
       "    }\n",
       "\n",
       "    .dataframe tbody tr th {\n",
       "        vertical-align: top;\n",
       "    }\n",
       "\n",
       "    .dataframe thead th {\n",
       "        text-align: right;\n",
       "    }\n",
       "</style>\n",
       "<table border=\"1\" class=\"dataframe\">\n",
       "  <thead>\n",
       "    <tr style=\"text-align: right;\">\n",
       "      <th></th>\n",
       "      <th>A</th>\n",
       "      <th>B</th>\n",
       "      <th>C</th>\n",
       "      <th>D</th>\n",
       "    </tr>\n",
       "  </thead>\n",
       "  <tbody>\n",
       "    <tr>\n",
       "      <th>White collar</th>\n",
       "      <td>90</td>\n",
       "      <td>60</td>\n",
       "      <td>104</td>\n",
       "      <td>95</td>\n",
       "    </tr>\n",
       "    <tr>\n",
       "      <th>Blue collar</th>\n",
       "      <td>30</td>\n",
       "      <td>50</td>\n",
       "      <td>51</td>\n",
       "      <td>20</td>\n",
       "    </tr>\n",
       "    <tr>\n",
       "      <th>No Collar</th>\n",
       "      <td>30</td>\n",
       "      <td>40</td>\n",
       "      <td>45</td>\n",
       "      <td>35</td>\n",
       "    </tr>\n",
       "  </tbody>\n",
       "</table>\n",
       "</div>"
      ],
      "text/plain": [
       "               A   B    C   D\n",
       "White collar  90  60  104  95\n",
       "Blue collar   30  50   51  20\n",
       "No Collar     30  40   45  35"
      ]
     },
     "execution_count": 2,
     "metadata": {},
     "output_type": "execute_result"
    }
   ],
   "source": [
    "# Create observed results df. Code adapted from [2.3]\n",
    "df_obs = df.iloc[0:3, 0:4].copy()\n",
    "\n",
    "# Display the Observed results dataframe table\n",
    "print(\"Observed Results Table\")\n",
    "df_obs"
   ]
  },
  {
   "cell_type": "code",
   "execution_count": 3,
   "metadata": {},
   "outputs": [
    {
     "name": "stdout",
     "output_type": "stream",
     "text": [
      "Expected Results Table\n"
     ]
    },
    {
     "data": {
      "text/html": [
       "<div>\n",
       "<style scoped>\n",
       "    .dataframe tbody tr th:only-of-type {\n",
       "        vertical-align: middle;\n",
       "    }\n",
       "\n",
       "    .dataframe tbody tr th {\n",
       "        vertical-align: top;\n",
       "    }\n",
       "\n",
       "    .dataframe thead th {\n",
       "        text-align: right;\n",
       "    }\n",
       "</style>\n",
       "<table border=\"1\" class=\"dataframe\">\n",
       "  <thead>\n",
       "    <tr style=\"text-align: right;\">\n",
       "      <th></th>\n",
       "      <th>A</th>\n",
       "      <th>B</th>\n",
       "      <th>C</th>\n",
       "      <th>D</th>\n",
       "    </tr>\n",
       "  </thead>\n",
       "  <tbody>\n",
       "    <tr>\n",
       "      <th>White collar</th>\n",
       "      <td>80.54</td>\n",
       "      <td>80.54</td>\n",
       "      <td>107.38</td>\n",
       "      <td>80.54</td>\n",
       "    </tr>\n",
       "    <tr>\n",
       "      <th>Blue collar</th>\n",
       "      <td>34.85</td>\n",
       "      <td>34.85</td>\n",
       "      <td>46.46</td>\n",
       "      <td>34.85</td>\n",
       "    </tr>\n",
       "    <tr>\n",
       "      <th>No Collar</th>\n",
       "      <td>34.62</td>\n",
       "      <td>34.62</td>\n",
       "      <td>46.15</td>\n",
       "      <td>34.62</td>\n",
       "    </tr>\n",
       "  </tbody>\n",
       "</table>\n",
       "</div>"
      ],
      "text/plain": [
       "                  A      B       C      D\n",
       "White collar  80.54  80.54  107.38  80.54\n",
       "Blue collar   34.85  34.85   46.46  34.85\n",
       "No Collar     34.62  34.62   46.15  34.62"
      ]
     },
     "execution_count": 3,
     "metadata": {},
     "output_type": "execute_result"
    }
   ],
   "source": [
    "# Copy the data table to form the expected results table dataframe. Code adapted from\n",
    "# https://pandas.pydata.org/pandas-docs/stable/reference/api/pandas.DataFrame.copy.html\n",
    "df_exp = df.copy()\n",
    "\n",
    "i, j = 0, 0\n",
    "# Loop for 3 rows\n",
    "while i < 3:\n",
    "    # Loop for 4 columns\n",
    "    while j < 4:\n",
    "        df_exp.iloc[i,j] = df_exp.iloc[-1,j]*df_exp.iloc[i,-1]/df_exp.iloc[-1,-1]\n",
    "        j += 1\n",
    "    j = 0\n",
    "    i += 1\n",
    "    \n",
    "# Drop total column and total row. Code adapted from\n",
    "# https://pandas.pydata.org/pandas-docs/stable/reference/api/pandas.DataFrame.drop.html\n",
    "df_exp = df_exp.drop(['Total'], axis=1).drop(['Total'], axis=0)\n",
    "\n",
    "# Display Expected results dataframe Table\n",
    "print(\"Expected Results Table\")\n",
    "df_exp.round(2)"
   ]
  },
  {
   "cell_type": "code",
   "execution_count": 4,
   "metadata": {},
   "outputs": [
    {
     "name": "stdout",
     "output_type": "stream",
     "text": [
      "Partial Chi-squared value Results Table\n"
     ]
    },
    {
     "data": {
      "text/html": [
       "<div>\n",
       "<style scoped>\n",
       "    .dataframe tbody tr th:only-of-type {\n",
       "        vertical-align: middle;\n",
       "    }\n",
       "\n",
       "    .dataframe tbody tr th {\n",
       "        vertical-align: top;\n",
       "    }\n",
       "\n",
       "    .dataframe thead th {\n",
       "        text-align: right;\n",
       "    }\n",
       "</style>\n",
       "<table border=\"1\" class=\"dataframe\">\n",
       "  <thead>\n",
       "    <tr style=\"text-align: right;\">\n",
       "      <th></th>\n",
       "      <th>A</th>\n",
       "      <th>B</th>\n",
       "      <th>C</th>\n",
       "      <th>D</th>\n",
       "    </tr>\n",
       "  </thead>\n",
       "  <tbody>\n",
       "    <tr>\n",
       "      <th>White collar</th>\n",
       "      <td>1.11</td>\n",
       "      <td>5.24</td>\n",
       "      <td>0.11</td>\n",
       "      <td>2.60</td>\n",
       "    </tr>\n",
       "    <tr>\n",
       "      <th>Blue collar</th>\n",
       "      <td>0.67</td>\n",
       "      <td>6.59</td>\n",
       "      <td>0.44</td>\n",
       "      <td>6.33</td>\n",
       "    </tr>\n",
       "    <tr>\n",
       "      <th>No Collar</th>\n",
       "      <td>0.62</td>\n",
       "      <td>0.84</td>\n",
       "      <td>0.03</td>\n",
       "      <td>0.00</td>\n",
       "    </tr>\n",
       "  </tbody>\n",
       "</table>\n",
       "</div>"
      ],
      "text/plain": [
       "                 A     B     C     D\n",
       "White collar  1.11  5.24  0.11  2.60\n",
       "Blue collar   0.67  6.59  0.44  6.33\n",
       "No Collar     0.62  0.84  0.03  0.00"
      ]
     },
     "execution_count": 4,
     "metadata": {},
     "output_type": "execute_result"
    }
   ],
   "source": [
    "# Calculate Partial Chi-squared values\n",
    "df_chi = ((df_obs - df_exp)**2)/df_exp\n",
    "\n",
    "# Display partial Chi-squared value dataframe Table\n",
    "print(\"Partial Chi-squared value Results Table\")  \n",
    "df_chi.round(2)"
   ]
  },
  {
   "cell_type": "code",
   "execution_count": 5,
   "metadata": {},
   "outputs": [
    {
     "name": "stdout",
     "output_type": "stream",
     "text": [
      "The manually calculated chi-square value is ~24.6\n"
     ]
    }
   ],
   "source": [
    "# Calculate full Chi-squared value. Code adapted from\n",
    "# https://www.geeksforgeeks.org/python-pandas-dataframe-sum\n",
    "#  https://medium.com/@nhan.tran/the-chi-square-statistic-p3-programming-with-python-87eb079f36af\n",
    "chi2_man = df_chi.sum().sum()\n",
    "\n",
    "print(f\"The manually calculated chi-square value is ~{chi2_man:.1f}\")"
   ]
  },
  {
   "cell_type": "code",
   "execution_count": 6,
   "metadata": {},
   "outputs": [
    {
     "name": "stdout",
     "output_type": "stream",
     "text": [
      "The scipy.stats calculated chi-squared test value is ~24.6\n",
      "with a p-value of 0.000410 and degrees of freedom of 6.\n"
     ]
    }
   ],
   "source": [
    "# Calculate Chi-square value using scipy.stats library. Code adapted from\n",
    "# https://docs.scipy.org/doc/scipy/reference/generated/scipy.stats.chi2_contingency.html\n",
    "chi2_ss, p_ss, dof_ss, exp_ss = stats.chi2_contingency(df_obs)\n",
    "\n",
    "# Disply the results of the Chi-square test\n",
    "print(f\"\"\"The scipy.stats calculated chi-squared test value is ~{chi2_ss:.1f}\n",
    "with a p-value of {p_ss:.6f} and degrees of freedom of {dof_ss}.\"\"\")"
   ]
  },
  {
   "cell_type": "code",
   "execution_count": 7,
   "metadata": {},
   "outputs": [
    {
     "name": "stdout",
     "output_type": "stream",
     "text": [
      "The scipy.stats calculated critical value is 12.6\n"
     ]
    }
   ],
   "source": [
    "# Caluclate critical value for a probability level of 5% (0.95). Code adapted from \n",
    "#  https://medium.com/@nhan.tran/the-chi-square-statistic-p3-programming-with-python-87eb079f36af\n",
    "crit_ss = stats.chi2.ppf(q=0.95, df=dof_ss)\n",
    "print(f\"The scipy.stats calculated critical value is {crit_ss:.1f}\")"
   ]
  },
  {
   "cell_type": "markdown",
   "metadata": {},
   "source": [
    "The Chi-squared value and p-value can be calculated using the scipy.stats.chi2_contingency method and the critical Chi-squared value can be calculated using the stats.chi2.ppf method. The calculate Chi-squared value (24.6) is higher than the critical value (12.6) for a 5% significance level and degrees of freedom in the sampled data. As such, we can reject the null hypotheses that the categories are independent of each other. "
   ]
  },
  {
   "cell_type": "markdown",
   "metadata": {},
   "source": [
    "### References\n",
    "\n",
    "1. https://machinelearningmastery.com/chi-squared-test-for-machine-learning/\n",
    "2. https://en.wikipedia.org/wiki/Chi-squared_test"
   ]
  }
 ],
 "metadata": {
  "kernelspec": {
   "display_name": "Python 3.7.1 64-bit ('Niamh': virtualenv)",
   "language": "python",
   "name": "python37164bitniamhvirtualenv288ffef71eab497daa563b780a275b87"
  },
  "language_info": {
   "codemirror_mode": {
    "name": "ipython",
    "version": 3
   },
   "file_extension": ".py",
   "mimetype": "text/x-python",
   "name": "python",
   "nbconvert_exporter": "python",
   "pygments_lexer": "ipython3",
   "version": "3.8.3"
  }
 },
 "nbformat": 4,
 "nbformat_minor": 4
}
